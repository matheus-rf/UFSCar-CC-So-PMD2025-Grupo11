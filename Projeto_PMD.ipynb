{
 "cells": [
  {
   "cell_type": "markdown",
   "metadata": {
    "application/vnd.databricks.v1+cell": {
     "cellMetadata": {
      "byteLimit": 2048000,
      "rowLimit": 10000
     },
     "inputWidgets": {},
     "nuid": "64002dc3-371b-4149-b9e6-114b33cb708d",
     "showTitle": false,
     "tableResultSettingsMap": {},
     "title": ""
    }
   },
   "source": [
    "## Estrutura do Processo:\n",
    "### **Extração**: Carregamento dos dados brutos\n",
    "###  **Transformação**: Limpeza e pré-processamento\n",
    "###  **Carga**: Exportação para Neo4j"
   ]
  },
  {
   "cell_type": "code",
   "metadata": {
    "application/vnd.databricks.v1+cell": {
     "cellMetadata": {
      "byteLimit": 2048000,
      "rowLimit": 10000
     },
     "inputWidgets": {},
     "nuid": "39ed2fb7-d968-4405-bcda-000fb114a627",
     "showTitle": false,
     "tableResultSettingsMap": {},
     "title": ""
    },
    "ExecuteTime": {
     "end_time": "2025-07-15T21:13:12.044857Z",
     "start_time": "2025-07-15T21:13:01.077539Z"
    }
   },
   "source": [
    "from pyspark.sql import SparkSession\n",
    "from pyspark.sql.functions import *\n",
    "from pyspark.sql.types import *\n",
    "import pandas as pd\n",
    "import os\n",
    "\n",
    "os.environ['HADOOP_HOME'] = r'C:\\hadoop'\n",
    "os.environ['JAVA_HOME'] = r'C:\\Program Files\\Eclipse Adoptium\\jdk-17.0.15.6-hotspot'\n",
    "\n",
    "# Configurar Spark Session\n",
    "spark = SparkSession.builder \\\n",
    "    .appName(\"FlightDelaysETL\") \\\n",
    "    .master(\"local[*]\") \\\n",
    "    .config(\"spark.sql.adaptive.enabled\", \"true\") \\\n",
    "    .config(\"spark.sql.adaptive.coalescePartitions.enabled\", \"true\") \\\n",
    "    .getOrCreate()\n",
    "\n",
    "spark.sparkContext.setLogLevel(\"DEBUG\")\n",
    "print(\"Spark Session iniciada com sucesso!\")\n",
    "print(f\"Versão do Spark: {spark.version}\")\n",
    "print(\"Hadoop version:\",\n",
    "      spark.sparkContext._jvm.org.apache.hadoop.util.VersionInfo.getVersion())"
   ],
   "outputs": [
    {
     "name": "stdout",
     "output_type": "stream",
     "text": [
      "Spark Session iniciada com sucesso!\n",
      "Versão do Spark: 4.0.0\n",
      "Hadoop version: 3.4.1\n"
     ]
    }
   ],
   "execution_count": 1
  },
  {
   "cell_type": "code",
   "metadata": {
    "application/vnd.databricks.v1+cell": {
     "cellMetadata": {
      "byteLimit": 2048000,
      "rowLimit": 10000
     },
     "inputWidgets": {},
     "nuid": "938535a1-b6af-433e-bc79-6aff680e1b2a",
     "showTitle": false,
     "tableResultSettingsMap": {},
     "title": ""
    },
    "ExecuteTime": {
     "end_time": "2025-07-15T21:13:17.161528Z",
     "start_time": "2025-07-15T21:13:12.065326Z"
    }
   },
   "source": [
    "# Definir os caminhos dos arquivos\n",
    "airlines_path = \"data/airlines.csv\"\n",
    "airports_path = \"data/airports.csv\"\n",
    "flights_path = \"data/flights.parquet\"\n",
    "\n",
    "print(\"Carregando dados...\")\n",
    "\n",
    "# Carregar os datasets\n",
    "try:\n",
    "    # Carregar airlines\n",
    "    airlines_df = spark.read.csv(airlines_path, header=True, inferSchema=True)\n",
    "    print(\"✓ Airlines carregado com sucesso\")\n",
    "    \n",
    "    # Carregar airports\n",
    "    airports_df = spark.read.csv(airports_path, header=True, inferSchema=True)\n",
    "    print(\"✓ Airports carregado com sucesso\")\n",
    "    \n",
    "    # Carregar flights\n",
    "    flights_df = spark.read.parquet(flights_path)\n",
    "    print(\"✓ Flights carregado com sucesso\")\n",
    "    \n",
    "except Exception as e:\n",
    "    print(f\"Erro ao carregar dados: {e}\")\n",
    "    raise"
   ],
   "outputs": [
    {
     "name": "stdout",
     "output_type": "stream",
     "text": [
      "Carregando dados...\n",
      "✓ Airlines carregado com sucesso\n",
      "✓ Airports carregado com sucesso\n",
      "✓ Flights carregado com sucesso\n"
     ]
    }
   ],
   "execution_count": 2
  },
  {
   "cell_type": "markdown",
   "metadata": {
    "application/vnd.databricks.v1+cell": {
     "cellMetadata": {
      "byteLimit": 2048000,
      "rowLimit": 10000
     },
     "inputWidgets": {},
     "nuid": "c22c22c3-2633-4431-a79e-8c0aa5fbe676",
     "showTitle": false,
     "tableResultSettingsMap": {},
     "title": ""
    }
   },
   "source": [
    "#### Análise Inicial dos Dados"
   ]
  },
  {
   "cell_type": "code",
   "metadata": {
    "application/vnd.databricks.v1+cell": {
     "cellMetadata": {
      "byteLimit": 2048000,
      "rowLimit": 10000
     },
     "inputWidgets": {},
     "nuid": "79ec60c4-cf1b-4e70-978c-96eedee6a1aa",
     "showTitle": false,
     "tableResultSettingsMap": {},
     "title": ""
    },
    "ExecuteTime": {
     "end_time": "2025-07-15T21:13:18.974728Z",
     "start_time": "2025-07-15T21:13:17.389952Z"
    }
   },
   "source": [
    "# Verificar esquemas dos datasets\n",
    "print(\"=== ESQUEMAS DOS DATASETS ===\\n\")\n",
    "\n",
    "print(\"AIRLINES:\")\n",
    "airlines_df.printSchema()\n",
    "print(f\"Registros: {airlines_df.count()}\")\n",
    "\n",
    "print(\"\\nAIRPORTS:\")\n",
    "airports_df.printSchema()\n",
    "print(f\"Registros: {airports_df.count()}\")\n",
    "\n",
    "print(\"\\nFLIGHTS:\")\n",
    "flights_df.printSchema()\n",
    "print(f\"Registros: {flights_df.count()}\")"
   ],
   "outputs": [
    {
     "name": "stdout",
     "output_type": "stream",
     "text": [
      "=== ESQUEMAS DOS DATASETS ===\n",
      "\n",
      "AIRLINES:\n",
      "root\n",
      " |-- IATA_CODE: string (nullable = true)\n",
      " |-- AIRLINE: string (nullable = true)\n",
      "\n",
      "Registros: 14\n",
      "\n",
      "AIRPORTS:\n",
      "root\n",
      " |-- IATA_CODE: string (nullable = true)\n",
      " |-- AIRPORT: string (nullable = true)\n",
      " |-- CITY: string (nullable = true)\n",
      " |-- STATE: string (nullable = true)\n",
      " |-- COUNTRY: string (nullable = true)\n",
      " |-- LATITUDE: double (nullable = true)\n",
      " |-- LONGITUDE: double (nullable = true)\n",
      "\n",
      "Registros: 322\n",
      "\n",
      "FLIGHTS:\n",
      "root\n",
      " |-- YEAR: double (nullable = true)\n",
      " |-- MONTH: double (nullable = true)\n",
      " |-- DAY: double (nullable = true)\n",
      " |-- DAY_OF_WEEK: double (nullable = true)\n",
      " |-- AIRLINE: string (nullable = true)\n",
      " |-- FLIGHT_NUMBER: double (nullable = true)\n",
      " |-- TAIL_NUMBER: string (nullable = true)\n",
      " |-- ORIGIN_AIRPORT: string (nullable = true)\n",
      " |-- DESTINATION_AIRPORT: string (nullable = true)\n",
      " |-- SCHEDULED_DEPARTURE: double (nullable = true)\n",
      " |-- DEPARTURE_TIME: double (nullable = true)\n",
      " |-- DEPARTURE_DELAY: double (nullable = true)\n",
      " |-- TAXI_OUT: double (nullable = true)\n",
      " |-- WHEELS_OFF: double (nullable = true)\n",
      " |-- SCHEDULED_TIME: double (nullable = true)\n",
      " |-- ELAPSED_TIME: double (nullable = true)\n",
      " |-- AIR_TIME: double (nullable = true)\n",
      " |-- DISTANCE: double (nullable = true)\n",
      " |-- WHEELS_ON: double (nullable = true)\n",
      " |-- TAXI_IN: double (nullable = true)\n",
      " |-- SCHEDULED_ARRIVAL: double (nullable = true)\n",
      " |-- ARRIVAL_TIME: double (nullable = true)\n",
      " |-- ARRIVAL_DELAY: double (nullable = true)\n",
      " |-- DIVERTED: double (nullable = true)\n",
      " |-- CANCELLED: double (nullable = true)\n",
      " |-- CANCELLATION_REASON: string (nullable = true)\n",
      " |-- AIR_SYSTEM_DELAY: double (nullable = true)\n",
      " |-- SECURITY_DELAY: double (nullable = true)\n",
      " |-- AIRLINE_DELAY: double (nullable = true)\n",
      " |-- LATE_AIRCRAFT_DELAY: double (nullable = true)\n",
      " |-- WEATHER_DELAY: double (nullable = true)\n",
      "\n",
      "Registros: 5819079\n"
     ]
    }
   ],
   "execution_count": 3
  },
  {
   "cell_type": "markdown",
   "metadata": {
    "application/vnd.databricks.v1+cell": {
     "cellMetadata": {
      "byteLimit": 2048000,
      "rowLimit": 10000
     },
     "inputWidgets": {},
     "nuid": "9a5881e9-388b-4133-b8a0-2e250df4be74",
     "showTitle": false,
     "tableResultSettingsMap": {},
     "title": ""
    }
   },
   "source": [
    "#### Junção dos Dados"
   ]
  },
  {
   "cell_type": "code",
   "metadata": {
    "application/vnd.databricks.v1+cell": {
     "cellMetadata": {
      "byteLimit": 2048000,
      "rowLimit": 10000
     },
     "inputWidgets": {},
     "nuid": "c72bb79f-ccca-4916-898e-6b44a80c49c1",
     "showTitle": false,
     "tableResultSettingsMap": {},
     "title": ""
    },
    "ExecuteTime": {
     "end_time": "2025-07-15T21:13:29.463861Z",
     "start_time": "2025-07-15T21:13:18.996199Z"
    }
   },
   "source": [
    "# Fazer join dos dados de voos com airlines e airports\n",
    "print(\"Realizando junção dos dados...\")\n",
    "\n",
    "# Join com airlines\n",
    "flights_with_airlines = flights_df.join(\n",
    "    airlines_df.select(col(\"IATA_CODE\").alias(\"AIRLINE_CODE\"),\n",
    "                      col(\"AIRLINE\").alias(\"AIRLINE_NAME\")),\n",
    "    flights_df.AIRLINE == col(\"AIRLINE_CODE\"),\n",
    "    \"left\"\n",
    ")\n",
    "\n",
    "# Join com airports de origem\n",
    "flights_with_origin = flights_with_airlines.join(\n",
    "    airports_df.select(col(\"IATA_CODE\").alias(\"ORIGIN_CODE\"),\n",
    "                      col(\"AIRPORT\").alias(\"ORIGIN_AIRPORT_NAME\"),\n",
    "                      col(\"CITY\").alias(\"ORIGIN_CITY\"),\n",
    "                      col(\"STATE\").alias(\"ORIGIN_STATE\")),\n",
    "    flights_with_airlines.ORIGIN_AIRPORT == col(\"ORIGIN_CODE\"),\n",
    "    \"left\"\n",
    ")\n",
    "\n",
    "# Join com airports de destino\n",
    "flights_complete = flights_with_origin.join(\n",
    "    airports_df.select(col(\"IATA_CODE\").alias(\"DEST_CODE\"),\n",
    "                      col(\"AIRPORT\").alias(\"DEST_AIRPORT_NAME\"),\n",
    "                      col(\"CITY\").alias(\"DEST_CITY\"),\n",
    "                      col(\"STATE\").alias(\"DEST_STATE\")),\n",
    "    flights_with_origin.DESTINATION_AIRPORT == col(\"DEST_CODE\"),\n",
    "    \"left\"\n",
    ")\n",
    "\n",
    "# CORREÇÃO: Filtrar apenas registros onde o join foi bem-sucedido\n",
    "# Isso remove registros onde ORIGIN_AIRPORT ou DESTINATION_AIRPORT não são códigos válidos\n",
    "flights_complete = flights_complete.filter(\n",
    "    col(\"ORIGIN_AIRPORT_NAME\").isNotNull() &\n",
    "    col(\"DEST_AIRPORT_NAME\").isNotNull()\n",
    ")\n",
    "\n",
    "# Renomear AIRLINE para o nome da companhia aérea e substituir as colunas de aeroportos\n",
    "flights_complete = (flights_complete\n",
    "                   .withColumn(\"AIRLINE\", col(\"AIRLINE_NAME\"))\n",
    "                   .drop(\"ORIGIN_AIRPORT\", \"DESTINATION_AIRPORT\")  # Remove as colunas originais\n",
    "                   .withColumnRenamed(\"ORIGIN_CODE\", \"ORIGIN_AIRPORT\")  # Usa o código validado\n",
    "                   .withColumnRenamed(\"DEST_CODE\", \"DESTINATION_AIRPORT\")  # Usa o código validado\n",
    "                   .drop(\"AIRLINE_CODE\", \"AIRLINE_NAME\")  # Remove colunas auxiliares\n",
    "                   )\n",
    "\n",
    "print(f\"Dados unidos com sucesso! Total de registros: {flights_complete.count()}\")\n",
    "\n",
    "# Verificar se ainda existem códigos inválidos\n",
    "print(\"Verificando códigos de aeroportos únicos após limpeza:\")\n",
    "print(f\"Aeroportos de origem únicos: {flights_complete.select('ORIGIN_AIRPORT').distinct().count()}\")\n",
    "print(f\"Aeroportos de destino únicos: {flights_complete.select('DESTINATION_AIRPORT').distinct().count()}\")\n",
    "\n",
    "# Mostrar alguns exemplos dos códigos limpos\n",
    "print(\"\\nExemplos de aeroportos de origem:\")\n",
    "flights_complete.select(\"ORIGIN_AIRPORT\", \"ORIGIN_AIRPORT_NAME\").distinct().show(10)"
   ],
   "outputs": [
    {
     "name": "stdout",
     "output_type": "stream",
     "text": [
      "Realizando junção dos dados...\n",
      "Dados unidos com sucesso! Total de registros: 5332914\n",
      "Verificando códigos de aeroportos únicos após limpeza:\n",
      "Aeroportos de origem únicos: 322\n",
      "Aeroportos de destino únicos: 322\n",
      "\n",
      "Exemplos de aeroportos de origem:\n",
      "+--------------+--------------------+\n",
      "|ORIGIN_AIRPORT| ORIGIN_AIRPORT_NAME|\n",
      "+--------------+--------------------+\n",
      "|           ROC|Greater Rochester...|\n",
      "|           COU|Columbia Regional...|\n",
      "|           RIC|Richmond Internat...|\n",
      "|           FAY|Fayetteville Regi...|\n",
      "|           TUS|Tucson Internatio...|\n",
      "|           ALO|Waterloo Regional...|\n",
      "|           ONT|Ontario Internati...|\n",
      "|           SEA|Seattle-Tacoma In...|\n",
      "|           MHT|Manchester-Boston...|\n",
      "|           GPT|Gulfport-Biloxi I...|\n",
      "+--------------+--------------------+\n",
      "only showing top 10 rows\n"
     ]
    }
   ],
   "execution_count": 4
  },
  {
   "cell_type": "markdown",
   "metadata": {
    "application/vnd.databricks.v1+cell": {
     "cellMetadata": {
      "byteLimit": 2048000,
      "rowLimit": 10000
     },
     "inputWidgets": {},
     "nuid": "409ca21c-6187-412a-881e-a9a0602ffecc",
     "showTitle": false,
     "tableResultSettingsMap": {},
     "title": ""
    }
   },
   "source": [
    "#### Verificação de Duplicatas"
   ]
  },
  {
   "cell_type": "code",
   "metadata": {
    "application/vnd.databricks.v1+cell": {
     "cellMetadata": {
      "byteLimit": 2048000,
      "rowLimit": 10000
     },
     "inputWidgets": {},
     "nuid": "e45c96a7-3e45-4762-b1fd-ac401d3b3e5a",
     "showTitle": false,
     "tableResultSettingsMap": {},
     "title": ""
    },
    "ExecuteTime": {
     "end_time": "2025-07-15T21:14:02.540563Z",
     "start_time": "2025-07-15T21:13:29.485917Z"
    }
   },
   "source": [
    "# Verificar duplicatas\n",
    "print(\"=== VERIFICAÇÃO DE DUPLICATAS ===\")\n",
    "\n",
    "total_records = flights_complete.count()\n",
    "\n",
    "# Contar registros únicos\n",
    "unique_records = flights_complete.distinct().count()\n",
    "duplicate_records = total_records - unique_records\n",
    "\n",
    "print(f\"Registros únicos: {unique_records:,}\")\n",
    "print(f\"Registros duplicados: {duplicate_records:,}\")\n",
    "print(f\"Porcentagem de duplicatas: {(duplicate_records / total_records * 100):.2f}%\")\n",
    "\n",
    "if duplicate_records > 0:\n",
    "    print(\"\\n⚠️  Removendo duplicatas...\")\n",
    "    flights_complete = flights_complete.distinct()\n",
    "    print(f\"✓ Duplicatas removidas. Registros restantes: {flights_complete.count():,}\")"
   ],
   "outputs": [
    {
     "name": "stdout",
     "output_type": "stream",
     "text": [
      "=== VERIFICAÇÃO DE DUPLICATAS ===\n",
      "Registros únicos: 5,332,914\n",
      "Registros duplicados: 0\n",
      "Porcentagem de duplicatas: 0.00%\n"
     ]
    }
   ],
   "execution_count": 5
  },
  {
   "cell_type": "markdown",
   "metadata": {
    "application/vnd.databricks.v1+cell": {
     "cellMetadata": {
      "byteLimit": 2048000,
      "rowLimit": 10000
     },
     "inputWidgets": {},
     "nuid": "d01cb57d-4436-423d-aa64-b2be777b683c",
     "showTitle": false,
     "tableResultSettingsMap": {},
     "title": ""
    }
   },
   "source": [
    "#### Análise de Valores Nulos"
   ]
  },
  {
   "cell_type": "code",
   "metadata": {
    "application/vnd.databricks.v1+cell": {
     "cellMetadata": {
      "byteLimit": 2048000,
      "rowLimit": 10000
     },
     "inputWidgets": {},
     "nuid": "ce33ab3e-3346-427f-ad24-fb1f37876b15",
     "showTitle": false,
     "tableResultSettingsMap": {},
     "title": ""
    },
    "ExecuteTime": {
     "end_time": "2025-07-15T21:14:17.378163Z",
     "start_time": "2025-07-15T21:14:02.559663Z"
    }
   },
   "source": [
    "# Análise de valores nulos por coluna\n",
    "print(\"=== ANÁLISE DE VALORES NULOS ===\")\n",
    "\n",
    "null_analysis = []\n",
    "total_rows = flights_complete.count()\n",
    "\n",
    "for column in flights_complete.columns:\n",
    "    null_count = flights_complete.filter(col(column).isNull()).count()\n",
    "    null_percentage = (null_count / total_rows) * 100\n",
    "    null_analysis.append({\n",
    "        'column': column,\n",
    "        'null_count': null_count,\n",
    "        'null_percentage': null_percentage\n",
    "    })\n",
    "\n",
    "# Converter para DataFrame do pandas para melhor visualização\n",
    "null_df = pd.DataFrame(null_analysis)\n",
    "null_df = null_df.sort_values('null_percentage', ascending=False)\n",
    "\n",
    "print(f\"Análise de valores nulos (Total de registros: {total_rows:,}):\")\n",
    "print(\"-\" * 60)\n",
    "for _, row in null_df.iterrows():\n",
    "    print(f\"{row['column']:<25} | {row['null_count']:>10,} | {row['null_percentage']:>8.2f}%\")"
   ],
   "outputs": [
    {
     "name": "stdout",
     "output_type": "stream",
     "text": [
      "=== ANÁLISE DE VALORES NULOS ===\n",
      "Análise de valores nulos (Total de registros: 5,332,914):\n",
      "------------------------------------------------------------\n",
      "CANCELLATION_REASON       |  5,245,484 |    98.36%\n",
      "AIRLINE_DELAY             |  4,329,554 |    81.19%\n",
      "WEATHER_DELAY             |  4,329,554 |    81.19%\n",
      "SECURITY_DELAY            |  4,329,554 |    81.19%\n",
      "AIR_SYSTEM_DELAY          |  4,329,554 |    81.19%\n",
      "LATE_AIRCRAFT_DELAY       |  4,329,554 |    81.19%\n",
      "ELAPSED_TIME              |    101,784 |     1.91%\n",
      "AIR_TIME                  |    101,784 |     1.91%\n",
      "ARRIVAL_DELAY             |    101,784 |     1.91%\n",
      "TAXI_IN                   |     89,942 |     1.69%\n",
      "ARRIVAL_TIME              |     89,942 |     1.69%\n",
      "WHEELS_ON                 |     89,942 |     1.69%\n",
      "WHEELS_OFF                |     86,612 |     1.62%\n",
      "TAXI_OUT                  |     86,612 |     1.62%\n",
      "DEPARTURE_DELAY           |     83,814 |     1.57%\n",
      "DEPARTURE_TIME            |     83,814 |     1.57%\n",
      "TAIL_NUMBER               |     14,367 |     0.27%\n",
      "SCHEDULED_TIME            |          6 |     0.00%\n",
      "YEAR                      |          0 |     0.00%\n",
      "DAY                       |          0 |     0.00%\n",
      "MONTH                     |          0 |     0.00%\n",
      "AIRLINE                   |          0 |     0.00%\n",
      "DAY_OF_WEEK               |          0 |     0.00%\n",
      "SCHEDULED_DEPARTURE       |          0 |     0.00%\n",
      "FLIGHT_NUMBER             |          0 |     0.00%\n",
      "SCHEDULED_ARRIVAL         |          0 |     0.00%\n",
      "DISTANCE                  |          0 |     0.00%\n",
      "DIVERTED                  |          0 |     0.00%\n",
      "CANCELLED                 |          0 |     0.00%\n",
      "ORIGIN_AIRPORT            |          0 |     0.00%\n",
      "ORIGIN_AIRPORT_NAME       |          0 |     0.00%\n",
      "ORIGIN_CITY               |          0 |     0.00%\n",
      "ORIGIN_STATE              |          0 |     0.00%\n",
      "DESTINATION_AIRPORT       |          0 |     0.00%\n",
      "DEST_AIRPORT_NAME         |          0 |     0.00%\n",
      "DEST_CITY                 |          0 |     0.00%\n",
      "DEST_STATE                |          0 |     0.00%\n"
     ]
    }
   ],
   "execution_count": 6
  },
  {
   "cell_type": "markdown",
   "metadata": {
    "application/vnd.databricks.v1+cell": {
     "cellMetadata": {
      "byteLimit": 2048000,
      "rowLimit": 10000
     },
     "inputWidgets": {},
     "nuid": "d2042504-71ed-476c-97bd-11eb14f1f0c4",
     "showTitle": false,
     "tableResultSettingsMap": {},
     "title": ""
    }
   },
   "source": [
    "#### Remoção de Colunas com Mais de 80% de Valores Nulos"
   ]
  },
  {
   "cell_type": "code",
   "metadata": {
    "application/vnd.databricks.v1+cell": {
     "cellMetadata": {
      "byteLimit": 2048000,
      "rowLimit": 10000
     },
     "inputWidgets": {},
     "nuid": "d81283e3-901c-4237-8509-6086d780dadc",
     "showTitle": false,
     "tableResultSettingsMap": {},
     "title": ""
    },
    "ExecuteTime": {
     "end_time": "2025-07-15T21:14:17.454263Z",
     "start_time": "2025-07-15T21:14:17.413004Z"
    }
   },
   "source": [
    "# Identificar colunas com mais de 80% de valores nulos\n",
    "columns_to_remove = null_df[null_df['null_percentage'] > 80]['column'].tolist()\n",
    "\n",
    "print(\"=== REMOÇÃO DE COLUNAS COM > 80% DE VALORES NULOS ===\")\n",
    "\n",
    "if columns_to_remove:\n",
    "    print(f\"Colunas a serem removidas ({len(columns_to_remove)}):\")\n",
    "    for col_name in columns_to_remove:\n",
    "        null_pct = null_df[null_df['column'] == col_name]['null_percentage'].iloc[0]\n",
    "        print(f\"  - {col_name}: {null_pct:.2f}% nulos\")\n",
    "    \n",
    "    # Remover as colunas\n",
    "    flights_complete = flights_complete.drop(*columns_to_remove)\n",
    "    print(f\"\\n✓ Colunas removidas. Colunas restantes: {len(flights_complete.columns)}\")\n",
    "else:\n",
    "    print(\"✓ Nenhuma coluna possui mais de 80% de valores nulos\")\n"
   ],
   "outputs": [
    {
     "name": "stdout",
     "output_type": "stream",
     "text": [
      "=== REMOÇÃO DE COLUNAS COM > 80% DE VALORES NULOS ===\n",
      "Colunas a serem removidas (6):\n",
      "  - CANCELLATION_REASON: 98.36% nulos\n",
      "  - AIRLINE_DELAY: 81.19% nulos\n",
      "  - WEATHER_DELAY: 81.19% nulos\n",
      "  - SECURITY_DELAY: 81.19% nulos\n",
      "  - AIR_SYSTEM_DELAY: 81.19% nulos\n",
      "  - LATE_AIRCRAFT_DELAY: 81.19% nulos\n",
      "\n",
      "✓ Colunas removidas. Colunas restantes: 31\n"
     ]
    }
   ],
   "execution_count": 7
  },
  {
   "cell_type": "markdown",
   "metadata": {
    "application/vnd.databricks.v1+cell": {
     "cellMetadata": {
      "byteLimit": 2048000,
      "rowLimit": 10000
     },
     "inputWidgets": {},
     "nuid": "3b1afbf7-a7bf-498f-9735-f63471093eaf",
     "showTitle": false,
     "tableResultSettingsMap": {},
     "title": ""
    }
   },
   "source": [
    "#### Seleção das Colunas Uteis para o Banco"
   ]
  },
  {
   "cell_type": "code",
   "metadata": {
    "application/vnd.databricks.v1+cell": {
     "cellMetadata": {
      "byteLimit": 2048000,
      "rowLimit": 10000
     },
     "inputWidgets": {},
     "nuid": "d111d455-c7d6-4a5c-9d4c-1988e2fca505",
     "showTitle": false,
     "tableResultSettingsMap": {},
     "title": ""
    },
    "ExecuteTime": {
     "end_time": "2025-07-15T21:14:17.820212Z",
     "start_time": "2025-07-15T21:14:17.469511Z"
    }
   },
   "source": [
    "print(\"=== CRIAÇÃO DA COLUNA DATE COM make_date ===\")\n",
    "\n",
    "flights_complete = flights_complete.withColumn(\n",
    "    \"DATE\",\n",
    "    make_date(\n",
    "        col(\"YEAR\").cast(\"int\"),\n",
    "        col(\"MONTH\").cast(\"int\"),\n",
    "        col(\"DAY\").cast(\"int\")\n",
    "    )\n",
    ")\n",
    "\n",
    "print(\"✓ Coluna DATE criada com sucesso (ou NULL se inválida)\")\n",
    "flights_complete.select(\"YEAR\", \"MONTH\", \"DAY\", \"DATE\").show(5)\n"
   ],
   "outputs": [
    {
     "name": "stdout",
     "output_type": "stream",
     "text": [
      "=== CRIAÇÃO DA COLUNA DATE COM make_date ===\n",
      "✓ Coluna DATE criada com sucesso (ou NULL se inválida)\n",
      "+------+-----+---+----------+\n",
      "|  YEAR|MONTH|DAY|      DATE|\n",
      "+------+-----+---+----------+\n",
      "|2015.0|  1.0|1.0|2015-01-01|\n",
      "|2015.0|  1.0|1.0|2015-01-01|\n",
      "|2015.0|  1.0|1.0|2015-01-01|\n",
      "|2015.0|  1.0|1.0|2015-01-01|\n",
      "|2015.0|  1.0|1.0|2015-01-01|\n",
      "+------+-----+---+----------+\n",
      "only showing top 5 rows\n"
     ]
    }
   ],
   "execution_count": 8
  },
  {
   "cell_type": "code",
   "metadata": {
    "application/vnd.databricks.v1+cell": {
     "cellMetadata": {
      "byteLimit": 2048000,
      "rowLimit": 10000
     },
     "inputWidgets": {},
     "nuid": "3925229a-a7d6-4187-abe2-46ea12ab1ec8",
     "showTitle": false,
     "tableResultSettingsMap": {},
     "title": ""
    },
    "ExecuteTime": {
     "end_time": "2025-07-15T21:14:18.685670Z",
     "start_time": "2025-07-15T21:14:17.840360Z"
    }
   },
   "source": [
    "# Selecionar apenas as colunas especificadas\n",
    "selected_columns = [\n",
    "    'DATE','AIRLINE', 'ORIGIN_AIRPORT', 'DESTINATION_AIRPORT',\n",
    "    'SCHEDULED_DEPARTURE', 'DEPARTURE_TIME', 'DEPARTURE_DELAY',\n",
    "    'SCHEDULED_ARRIVAL', 'ARRIVAL_TIME', 'ARRIVAL_DELAY',\n",
    "    'SCHEDULED_TIME', 'ELAPSED_TIME'\n",
    "]\n",
    "\n",
    "print(\"=== SELEÇÃO DE COLUNAS ESPECÍFICAS ===\")\n",
    "print(f\"Colunas selecionadas ({len(selected_columns)}):\")\n",
    "for col_select in selected_columns:\n",
    "    print(f\"  - {col_select}\")\n",
    "\n",
    "# Verificar se todas as colunas existem\n",
    "existing_columns = flights_complete.columns\n",
    "missing_columns = [col for col in selected_columns if col not in existing_columns]\n",
    "\n",
    "if missing_columns:\n",
    "    print(f\"\\n⚠️  Colunas não encontradas: {missing_columns}\")\n",
    "    # Remover colunas não encontradas da lista\n",
    "    selected_columns = [col for col in selected_columns if col in existing_columns]\n",
    "    print(f\"Usando apenas colunas existentes: {selected_columns}\")\n",
    "\n",
    "# Selecionar apenas as colunas desejadas\n",
    "flights_selected = flights_complete.select(*selected_columns)\n",
    "\n",
    "print(f\"\\n✓ Dataset final com {len(selected_columns)} colunas e {flights_selected.count():,} registros\")"
   ],
   "outputs": [
    {
     "name": "stdout",
     "output_type": "stream",
     "text": [
      "=== SELEÇÃO DE COLUNAS ESPECÍFICAS ===\n",
      "Colunas selecionadas (12):\n",
      "  - DATE\n",
      "  - AIRLINE\n",
      "  - ORIGIN_AIRPORT\n",
      "  - DESTINATION_AIRPORT\n",
      "  - SCHEDULED_DEPARTURE\n",
      "  - DEPARTURE_TIME\n",
      "  - DEPARTURE_DELAY\n",
      "  - SCHEDULED_ARRIVAL\n",
      "  - ARRIVAL_TIME\n",
      "  - ARRIVAL_DELAY\n",
      "  - SCHEDULED_TIME\n",
      "  - ELAPSED_TIME\n",
      "\n",
      "✓ Dataset final com 12 colunas e 5,332,914 registros\n"
     ]
    }
   ],
   "execution_count": 9
  },
  {
   "cell_type": "markdown",
   "metadata": {
    "application/vnd.databricks.v1+cell": {
     "cellMetadata": {
      "byteLimit": 2048000,
      "rowLimit": 10000
     },
     "inputWidgets": {},
     "nuid": "50d5ab7c-6109-4471-a69a-de5a1b7c06c7",
     "showTitle": false,
     "tableResultSettingsMap": {},
     "title": ""
    }
   },
   "source": [
    "#### Análise Final de Valores Nulos"
   ]
  },
  {
   "cell_type": "code",
   "metadata": {
    "application/vnd.databricks.v1+cell": {
     "cellMetadata": {
      "byteLimit": 2048000,
      "rowLimit": 10000
     },
     "inputWidgets": {},
     "nuid": "c195953a-4f05-4a58-a013-ece5c6990e18",
     "showTitle": false,
     "tableResultSettingsMap": {},
     "title": ""
    },
    "ExecuteTime": {
     "end_time": "2025-07-15T21:14:23.727075Z",
     "start_time": "2025-07-15T21:14:18.701078Z"
    }
   },
   "source": [
    "# Análise final de valores nulos nas colunas selecionadas\n",
    "print(\"=== ANÁLISE FINAL DE VALORES NULOS ===\")\n",
    "\n",
    "final_null_analysis = []\n",
    "total_rows_final = flights_selected.count()\n",
    "\n",
    "# Importar explicitamente para evitar conflitos\n",
    "from pyspark.sql.functions import col as spark_col\n",
    "\n",
    "for col_name in flights_selected.columns:\n",
    "    null_count = flights_selected.filter(spark_col(col_name).isNull()).count()\n",
    "    null_percentage = (null_count / total_rows_final) * 100\n",
    "    final_null_analysis.append({\n",
    "        'column': col_name,\n",
    "        'null_count': null_count,\n",
    "        'null_percentage': null_percentage\n",
    "    })\n",
    "\n",
    "# Converter para DataFrame do pandas\n",
    "final_null_df = pd.DataFrame(final_null_analysis)\n",
    "final_null_df = final_null_df.sort_values('null_percentage', ascending=False)\n",
    "\n",
    "print(f\"Análise de valores nulos no dataset final (Total: {total_rows_final:,}):\")\n",
    "print(\"-\" * 60)\n",
    "for _, row in final_null_df.iterrows():\n",
    "    print(f\"{row['column']:<25} | {row['null_count']:>10,} | {row['null_percentage']:>8.2f}%\")\n",
    "\n",
    "# Calcular total de linhas com pelo menos um valor nulo\n",
    "# Usar uma abordagem mais robusta\n",
    "null_condition = None\n",
    "for col_name in flights_selected.columns:\n",
    "    if null_condition is None:\n",
    "        null_condition = spark_col(col_name).isNull()\n",
    "    else:\n",
    "        null_condition = null_condition | spark_col(col_name).isNull()\n",
    "\n",
    "rows_with_nulls = flights_selected.filter(null_condition).count()\n",
    "\n",
    "null_rows_percentage = (rows_with_nulls / total_rows_final) * 100\n",
    "print(f\"\\nLinhas com pelo menos um valor nulo: {rows_with_nulls:,} ({null_rows_percentage:.2f}%)\")"
   ],
   "outputs": [
    {
     "name": "stdout",
     "output_type": "stream",
     "text": [
      "=== ANÁLISE FINAL DE VALORES NULOS ===\n",
      "Análise de valores nulos no dataset final (Total: 5,332,914):\n",
      "------------------------------------------------------------\n",
      "ARRIVAL_DELAY             |    101,784 |     1.91%\n",
      "ELAPSED_TIME              |    101,784 |     1.91%\n",
      "ARRIVAL_TIME              |     89,942 |     1.69%\n",
      "DEPARTURE_TIME            |     83,814 |     1.57%\n",
      "DEPARTURE_DELAY           |     83,814 |     1.57%\n",
      "SCHEDULED_TIME            |          6 |     0.00%\n",
      "AIRLINE                   |          0 |     0.00%\n",
      "DATE                      |          0 |     0.00%\n",
      "DESTINATION_AIRPORT       |          0 |     0.00%\n",
      "ORIGIN_AIRPORT            |          0 |     0.00%\n",
      "SCHEDULED_ARRIVAL         |          0 |     0.00%\n",
      "SCHEDULED_DEPARTURE       |          0 |     0.00%\n",
      "\n",
      "Linhas com pelo menos um valor nulo: 101,784 (1.91%)\n"
     ]
    }
   ],
   "execution_count": 10
  },
  {
   "cell_type": "markdown",
   "metadata": {
    "application/vnd.databricks.v1+cell": {
     "cellMetadata": {
      "byteLimit": 2048000,
      "rowLimit": 10000
     },
     "inputWidgets": {},
     "nuid": "0458fc02-21da-4f5f-a334-b599f35eba7d",
     "showTitle": false,
     "tableResultSettingsMap": {},
     "title": ""
    }
   },
   "source": [
    "#### Remoção de Linhas com Valores Nulos"
   ]
  },
  {
   "cell_type": "code",
   "metadata": {
    "application/vnd.databricks.v1+cell": {
     "cellMetadata": {
      "byteLimit": 2048000,
      "rowLimit": 10000
     },
     "inputWidgets": {},
     "nuid": "1444e821-8518-4c2a-b27d-b7dc67c9a8c9",
     "showTitle": false,
     "tableResultSettingsMap": {},
     "title": ""
    },
    "ExecuteTime": {
     "end_time": "2025-07-15T21:14:25.427852Z",
     "start_time": "2025-07-15T21:14:23.754811Z"
    }
   },
   "source": [
    "print(f\"Removendo {rows_with_nulls:,} linhas com valores nulos...\")\n",
    "    \n",
    "# Criar dataset limpo (sem valores nulos)\n",
    "flights_clean = flights_selected.na.drop()\n",
    "\n",
    "final_count = flights_clean.count()\n",
    "removed_rows = total_rows_final - final_count\n",
    "\n",
    "print(f\"✓ Remoção concluída:\")\n",
    "print(f\"  - Registros removidos: {removed_rows:,}\")\n",
    "print(f\"  - Registros restantes: {final_count:,}\")\n",
    "print(f\"  - Porcentagem removida: {(removed_rows / total_rows_final * 100):.2f}%\")\n",
    "print(f\"  - Porcentagem mantida: {(final_count / total_rows_final * 100):.2f}%\")"
   ],
   "outputs": [
    {
     "name": "stdout",
     "output_type": "stream",
     "text": [
      "Removendo 101,784 linhas com valores nulos...\n",
      "✓ Remoção concluída:\n",
      "  - Registros removidos: 101,784\n",
      "  - Registros restantes: 5,231,130\n",
      "  - Porcentagem removida: 1.91%\n",
      "  - Porcentagem mantida: 98.09%\n"
     ]
    }
   ],
   "execution_count": 11
  },
  {
   "cell_type": "markdown",
   "metadata": {
    "application/vnd.databricks.v1+cell": {
     "cellMetadata": {
      "byteLimit": 2048000,
      "rowLimit": 10000
     },
     "inputWidgets": {},
     "nuid": "27ee7b96-286a-4ee5-8471-ba8def58c01c",
     "showTitle": false,
     "tableResultSettingsMap": {},
     "title": ""
    }
   },
   "source": [
    "#### Transformações e Limpeza de Dados"
   ]
  },
  {
   "cell_type": "code",
   "metadata": {
    "application/vnd.databricks.v1+cell": {
     "cellMetadata": {
      "byteLimit": 2048000,
      "rowLimit": 10000
     },
     "inputWidgets": {},
     "nuid": "1068d27f-3d21-41de-9418-efad98665cad",
     "showTitle": false,
     "tableResultSettingsMap": {},
     "title": ""
    },
    "ExecuteTime": {
     "end_time": "2025-07-15T21:14:27.333617Z",
     "start_time": "2025-07-15T21:14:25.452280Z"
    }
   },
   "source": [
    "print(\"=== TRANSFORMAÇÕES E LIMPEZA DE DADOS ===\")\n",
    "\n",
    "# Verificar tipos de dados atuais\n",
    "print(\"Tipos de dados atuais:\")\n",
    "flights_clean.printSchema()\n",
    "\n",
    "# Aplicar transformações de limpeza\n",
    "print(\"\\nAplicando transformações...\")\n",
    "\n",
    "flights_transformed = flights_clean.withColumn(\n",
    "    \"DATE\",\n",
    "    date_format(col(\"DATE\"), \"yyyy-MM-dd\")\n",
    ")\n",
    "\n",
    "# Converter colunas de tempo para tipos apropriados\n",
    "flights_transformed = flights_clean.withColumn(\"SCHEDULED_DEPARTURE\", col(\"SCHEDULED_DEPARTURE\").cast(\"integer\")) \\\n",
    "                                  .withColumn(\"DEPARTURE_TIME\", col(\"DEPARTURE_TIME\").cast(\"integer\")) \\\n",
    "                                  .withColumn(\"DEPARTURE_DELAY\", col(\"DEPARTURE_DELAY\").cast(\"integer\")) \\\n",
    "                                  .withColumn(\"SCHEDULED_ARRIVAL\", col(\"SCHEDULED_ARRIVAL\").cast(\"integer\")) \\\n",
    "                                  .withColumn(\"ARRIVAL_TIME\", col(\"ARRIVAL_TIME\").cast(\"integer\")) \\\n",
    "                                  .withColumn(\"ARRIVAL_DELAY\", col(\"ARRIVAL_DELAY\").cast(\"integer\")) \\\n",
    "                                  .withColumn(\"SCHEDULED_TIME\", col(\"SCHEDULED_TIME\").cast(\"integer\")) \\\n",
    "                                  .withColumn(\"ELAPSED_TIME\", col(\"ELAPSED_TIME\").cast(\"integer\"))\n",
    "\n",
    "\n",
    "# Limpar e padronizar códigos de aeroportos\n",
    "flights_transformed = flights_transformed.withColumn(\"ORIGIN_AIRPORT\", upper(trim(col(\"ORIGIN_AIRPORT\")))) \\\n",
    "                                        .withColumn(\"DESTINATION_AIRPORT\", upper(trim(col(\"DESTINATION_AIRPORT\")))) \\\n",
    "                                        .withColumn(\"AIRLINE\", trim(col(\"AIRLINE\")))\n",
    "\n",
    "# Filtrar registros inconsistentes (delays muito extremos)\n",
    "flights_transformed = flights_transformed.filter(\n",
    "    (col(\"DEPARTURE_DELAY\") >= -60) & (col(\"DEPARTURE_DELAY\") <= 1440) &  # -60 min a 24h\n",
    "    (col(\"ARRIVAL_DELAY\") >= -60) & (col(\"ARRIVAL_DELAY\") <= 1440)\n",
    ")\n",
    "\n",
    "print(f\"✓ Transformações aplicadas. Registros finais: {flights_transformed.count():,}\")\n",
    "\n"
   ],
   "outputs": [
    {
     "name": "stdout",
     "output_type": "stream",
     "text": [
      "=== TRANSFORMAÇÕES E LIMPEZA DE DADOS ===\n",
      "Tipos de dados atuais:\n",
      "root\n",
      " |-- DATE: date (nullable = true)\n",
      " |-- AIRLINE: string (nullable = true)\n",
      " |-- ORIGIN_AIRPORT: string (nullable = true)\n",
      " |-- DESTINATION_AIRPORT: string (nullable = true)\n",
      " |-- SCHEDULED_DEPARTURE: double (nullable = true)\n",
      " |-- DEPARTURE_TIME: double (nullable = true)\n",
      " |-- DEPARTURE_DELAY: double (nullable = true)\n",
      " |-- SCHEDULED_ARRIVAL: double (nullable = true)\n",
      " |-- ARRIVAL_TIME: double (nullable = true)\n",
      " |-- ARRIVAL_DELAY: double (nullable = true)\n",
      " |-- SCHEDULED_TIME: double (nullable = true)\n",
      " |-- ELAPSED_TIME: double (nullable = true)\n",
      "\n",
      "\n",
      "Aplicando transformações...\n",
      "✓ Transformações aplicadas. Registros finais: 5,230,735\n"
     ]
    }
   ],
   "execution_count": 12
  },
  {
   "cell_type": "markdown",
   "metadata": {
    "application/vnd.databricks.v1+cell": {
     "cellMetadata": {
      "byteLimit": 2048000,
      "rowLimit": 10000
     },
     "inputWidgets": {},
     "nuid": "a04b496b-4dfc-466e-a5d0-934fabef846e",
     "showTitle": false,
     "tableResultSettingsMap": {},
     "title": ""
    }
   },
   "source": [
    "#### Conexão e Carga para Neo4j"
   ]
  },
  {
   "cell_type": "code",
   "metadata": {
    "application/vnd.databricks.v1+cell": {
     "cellMetadata": {
      "byteLimit": 2048000,
      "rowLimit": 10000
     },
     "inputWidgets": {},
     "nuid": "007e68d9-7d7b-4b02-bbc0-b7826cfbc2c4",
     "showTitle": false,
     "tableResultSettingsMap": {},
     "title": ""
    },
    "ExecuteTime": {
     "end_time": "2025-07-15T21:14:29.665609Z",
     "start_time": "2025-07-15T21:14:27.358468Z"
    }
   },
   "source": [
    "%pip install neo4j"
   ],
   "outputs": [
    {
     "name": "stdout",
     "output_type": "stream",
     "text": [
      "Requirement already satisfied: neo4j in c:\\users\\mathe\\pycharmprojects\\proj_ntbd\\.venv\\lib\\site-packages (5.28.1)\n",
      "Requirement already satisfied: pytz in c:\\users\\mathe\\pycharmprojects\\proj_ntbd\\.venv\\lib\\site-packages (from neo4j) (2025.2)\n",
      "Note: you may need to restart the kernel to use updated packages.\n"
     ]
    },
    {
     "name": "stderr",
     "output_type": "stream",
     "text": [
      "\n",
      "[notice] A new release of pip is available: 23.2.1 -> 25.1.1\n",
      "[notice] To update, run: python.exe -m pip install --upgrade pip\n"
     ]
    }
   ],
   "execution_count": 13
  },
  {
   "cell_type": "code",
   "metadata": {
    "application/vnd.databricks.v1+cell": {
     "cellMetadata": {
      "byteLimit": 2048000,
      "rowLimit": 10000
     },
     "inputWidgets": {},
     "nuid": "65394079-e994-422b-a159-59a7273b23f2",
     "showTitle": false,
     "tableResultSettingsMap": {},
     "title": ""
    },
    "ExecuteTime": {
     "end_time": "2025-07-15T21:14:29.887899Z",
     "start_time": "2025-07-15T21:14:29.690519Z"
    }
   },
   "source": "from airport_flight_system import AirportFlightSystem",
   "outputs": [],
   "execution_count": 14
  },
  {
   "cell_type": "code",
   "metadata": {
    "application/vnd.databricks.v1+cell": {
     "cellMetadata": {
      "byteLimit": 2048000,
      "rowLimit": 10000
     },
     "inputWidgets": {},
     "nuid": "1f8222bb-4838-415b-a1e9-8c2cb31620c5",
     "showTitle": false,
     "tableResultSettingsMap": {},
     "title": ""
    },
    "ExecuteTime": {
     "end_time": "2025-07-15T21:14:30.280530Z",
     "start_time": "2025-07-15T21:14:29.911900Z"
    }
   },
   "source": [
    "# Configurações do Neo4j\n",
    "NEO4J_URI = \"neo4j://127.0.0.1:7687\"\n",
    "NEO4J_USER = \"neo4j\"\n",
    "NEO4J_PASSWORD = \"12345678\"  # Ajuste conforme sua configuração\n",
    "\n",
    "# Inicializar o sistema\n",
    "try:\n",
    "    flight_system = AirportFlightSystem(\n",
    "        uri=NEO4J_URI,\n",
    "        user=NEO4J_USER,\n",
    "        password=NEO4J_PASSWORD\n",
    "    )\n",
    "    print(\"✅ Sistema inicializado com sucesso!\")\n",
    "except Exception as e:\n",
    "    print(f\"❌ Erro ao inicializar sistema: {e}\")\n",
    "    raise"
   ],
   "outputs": [
    {
     "name": "stderr",
     "output_type": "stream",
     "text": [
      "INFO:airport_flight_system:✅ Conectado ao Neo4j com sucesso! Database: flights-db\n",
      "INFO:airport_flight_system:🔍 Teste de conexão no database 'flights-db': 1\n"
     ]
    },
    {
     "name": "stdout",
     "output_type": "stream",
     "text": [
      "✅ Sistema inicializado com sucesso!\n"
     ]
    }
   ],
   "execution_count": 15
  },
  {
   "metadata": {},
   "cell_type": "markdown",
   "source": "### Configuração do Banco de Dados"
  },
  {
   "metadata": {
    "ExecuteTime": {
     "end_time": "2025-07-15T21:14:30.555785Z",
     "start_time": "2025-07-15T21:14:30.309882Z"
    }
   },
   "cell_type": "code",
   "source": [
    "print(\"🔧 Configurando banco de dados...\")\n",
    "flight_system.setup_database()\n",
    "print(\"✅ Configuração concluída!\\n\")\n",
    "\n",
    "print(\"📊 Status inicial do banco de dados:\")\n",
    "initial_info = flight_system.get_database_info()\n",
    "print(f\"Nós: {initial_info['total_nodes']}\")\n",
    "print(f\"Relacionamentos: {initial_info['total_relationships']}\")\n",
    "print(f\"Labels: {initial_info['labels']}\")\n",
    "print(f\"Tipos de relacionamento: {initial_info['relationship_types']}\\n\")\n"
   ],
   "outputs": [
    {
     "name": "stderr",
     "output_type": "stream",
     "text": [
      "INFO:airport_flight_system:🔧 Configurando banco de dados 'flights-db'...\n",
      "INFO:airport_flight_system:ℹ Constraint airport_code_unique já existe: {code: Neo.ClientError.Schema.EquivalentSchemaRuleAlreadyExists} {message: An equivalent constraint already exists, 'Constraint( id=3, name='airport_code_unique', type='NODE PROPERTY UNIQUENESS', schema=(:Airport {code}), ownedIndex=2 )'.}\n",
      "INFO:airport_flight_system:ℹ Índice airport_code_index já existe: {code: Neo.ClientError.Schema.ConstraintAlreadyExists} {message: There is a uniqueness constraint on (:Airport {code}), so an index is already created that matches this.}\n",
      "INFO:airport_flight_system:ℹ Índice flight_date_index já existe: {code: Neo.ClientError.Schema.EquivalentSchemaRuleAlreadyExists} {message: An equivalent index already exists, 'Index( id=4, name='flight_date_index', type='RANGE', schema=()-[:FLIGHT {date}]-(), indexProvider='range-1.0' )'.}\n",
      "INFO:airport_flight_system:ℹ Índice flight_airline_index já existe: {code: Neo.ClientError.Schema.EquivalentSchemaRuleAlreadyExists} {message: An equivalent index already exists, 'Index( id=5, name='flight_airline_index', type='RANGE', schema=()-[:FLIGHT {airline}]-(), indexProvider='range-1.0' )'.}\n"
     ]
    },
    {
     "name": "stdout",
     "output_type": "stream",
     "text": [
      "🔧 Configurando banco de dados...\n",
      "✅ Configuração concluída!\n",
      "\n",
      "📊 Status inicial do banco de dados:\n"
     ]
    },
    {
     "name": "stderr",
     "output_type": "stream",
     "text": [
      "INFO:airport_flight_system:📊 Info do banco 'flights-db': 0 nós, 0 relacionamentos\n"
     ]
    },
    {
     "name": "stdout",
     "output_type": "stream",
     "text": [
      "Nós: 0\n",
      "Relacionamentos: 0\n",
      "Labels: ['Airport']\n",
      "Tipos de relacionamento: ['FLIGHT']\n",
      "\n"
     ]
    }
   ],
   "execution_count": 16
  },
  {
   "metadata": {},
   "cell_type": "markdown",
   "source": "### apagando pro db começar sem niguem garantidamente"
  },
  {
   "metadata": {
    "ExecuteTime": {
     "end_time": "2025-07-15T21:14:30.810972Z",
     "start_time": "2025-07-15T21:14:30.596331Z"
    }
   },
   "cell_type": "code",
   "source": [
    "#apagando todos os dados do banco\n",
    "flight_system.clear_database()"
   ],
   "outputs": [
    {
     "name": "stderr",
     "output_type": "stream",
     "text": [
      "INFO:airport_flight_system:🧹 Banco de dados 'flights-db' limpo\n"
     ]
    }
   ],
   "execution_count": 17
  },
  {
   "metadata": {},
   "cell_type": "markdown",
   "source": "### Criar Aeroportos Únicos"
  },
  {
   "metadata": {
    "ExecuteTime": {
     "end_time": "2025-07-15T21:14:41.121624Z",
     "start_time": "2025-07-15T21:14:30.889371Z"
    }
   },
   "cell_type": "code",
   "source": [
    "print(\"🛫 Criando aeroportos únicos...\")\n",
    "\n",
    "# Obter aeroportos únicos do DataFrame\n",
    "origin_airports = flights_transformed.select(\"ORIGIN_AIRPORT\").distinct().collect()\n",
    "destination_airports = flights_transformed.select(\"DESTINATION_AIRPORT\").distinct().collect()\n",
    "\n",
    "# Combinar e remover duplicatas\n",
    "all_airports = set()\n",
    "for row in origin_airports:\n",
    "    if row.ORIGIN_AIRPORT:\n",
    "        all_airports.add(row.ORIGIN_AIRPORT)\n",
    "for row in destination_airports:\n",
    "    if row.DESTINATION_AIRPORT:\n",
    "        all_airports.add(row.DESTINATION_AIRPORT)\n",
    "\n",
    "print(f\"Total de aeroportos únicos encontrados: {len(all_airports)}\")\n",
    "\n",
    "# Criar aeroportos no Neo4j (com dados básicos)\n",
    "airports_created = 0\n",
    "for airport_code in all_airports:\n",
    "    try:\n",
    "        flight_system.create_airport(\n",
    "            code=airport_code,\n",
    "            name=f\"Airport {airport_code}\",  # Nome genérico\n",
    "            city=f\"City {airport_code}\",     # Cidade genérica\n",
    "            state=f\"State {airport_code}\",   # Estado genérico\n",
    "            country=\"USA\"\n",
    "        )\n",
    "        airports_created += 1\n",
    "    except Exception as e:\n",
    "        print(f\"Erro ao criar aeroporto {airport_code}: {e}\")\n",
    "\n",
    "print(f\"✅ {airports_created} aeroportos criados com sucesso!\\n\")"
   ],
   "outputs": [
    {
     "name": "stdout",
     "output_type": "stream",
     "text": [
      "🛫 Criando aeroportos únicos...\n",
      "Total de aeroportos únicos encontrados: 322\n"
     ]
    },
    {
     "name": "stderr",
     "output_type": "stream",
     "text": [
      "INFO:airport_flight_system:✅ Aeroporto TRI criado/atualizado: Airport TRI\n",
      "INFO:airport_flight_system:✅ Aeroporto FAR criado/atualizado: Airport FAR\n",
      "INFO:airport_flight_system:✅ Aeroporto MSN criado/atualizado: Airport MSN\n",
      "INFO:airport_flight_system:✅ Aeroporto BIS criado/atualizado: Airport BIS\n",
      "INFO:airport_flight_system:✅ Aeroporto PNS criado/atualizado: Airport PNS\n",
      "INFO:airport_flight_system:✅ Aeroporto ACK criado/atualizado: Airport ACK\n",
      "INFO:airport_flight_system:✅ Aeroporto MAF criado/atualizado: Airport MAF\n",
      "INFO:airport_flight_system:✅ Aeroporto BQN criado/atualizado: Airport BQN\n",
      "INFO:airport_flight_system:✅ Aeroporto EVV criado/atualizado: Airport EVV\n",
      "INFO:airport_flight_system:✅ Aeroporto ORD criado/atualizado: Airport ORD\n",
      "INFO:airport_flight_system:✅ Aeroporto FLG criado/atualizado: Airport FLG\n",
      "INFO:airport_flight_system:✅ Aeroporto DAY criado/atualizado: Airport DAY\n",
      "INFO:airport_flight_system:✅ Aeroporto MHT criado/atualizado: Airport MHT\n",
      "INFO:airport_flight_system:✅ Aeroporto CMH criado/atualizado: Airport CMH\n",
      "INFO:airport_flight_system:✅ Aeroporto COS criado/atualizado: Airport COS\n",
      "INFO:airport_flight_system:✅ Aeroporto BUR criado/atualizado: Airport BUR\n",
      "INFO:airport_flight_system:✅ Aeroporto JAN criado/atualizado: Airport JAN\n",
      "INFO:airport_flight_system:✅ Aeroporto PAH criado/atualizado: Airport PAH\n",
      "INFO:airport_flight_system:✅ Aeroporto SUX criado/atualizado: Airport SUX\n",
      "INFO:airport_flight_system:✅ Aeroporto DLH criado/atualizado: Airport DLH\n",
      "INFO:airport_flight_system:✅ Aeroporto IAD criado/atualizado: Airport IAD\n",
      "INFO:airport_flight_system:✅ Aeroporto PHL criado/atualizado: Airport PHL\n",
      "INFO:airport_flight_system:✅ Aeroporto UST criado/atualizado: Airport UST\n",
      "INFO:airport_flight_system:✅ Aeroporto LBB criado/atualizado: Airport LBB\n",
      "INFO:airport_flight_system:✅ Aeroporto ABQ criado/atualizado: Airport ABQ\n",
      "INFO:airport_flight_system:✅ Aeroporto ROW criado/atualizado: Airport ROW\n",
      "INFO:airport_flight_system:✅ Aeroporto GRB criado/atualizado: Airport GRB\n",
      "INFO:airport_flight_system:✅ Aeroporto HYS criado/atualizado: Airport HYS\n",
      "INFO:airport_flight_system:✅ Aeroporto OMA criado/atualizado: Airport OMA\n",
      "INFO:airport_flight_system:✅ Aeroporto JAX criado/atualizado: Airport JAX\n",
      "INFO:airport_flight_system:✅ Aeroporto MSY criado/atualizado: Airport MSY\n",
      "INFO:airport_flight_system:✅ Aeroporto LIT criado/atualizado: Airport LIT\n",
      "INFO:airport_flight_system:✅ Aeroporto EKO criado/atualizado: Airport EKO\n",
      "INFO:airport_flight_system:✅ Aeroporto IMT criado/atualizado: Airport IMT\n",
      "INFO:airport_flight_system:✅ Aeroporto RNO criado/atualizado: Airport RNO\n",
      "INFO:airport_flight_system:✅ Aeroporto EGE criado/atualizado: Airport EGE\n",
      "INFO:airport_flight_system:✅ Aeroporto ACT criado/atualizado: Airport ACT\n",
      "INFO:airport_flight_system:✅ Aeroporto ALB criado/atualizado: Airport ALB\n",
      "INFO:airport_flight_system:✅ Aeroporto EAU criado/atualizado: Airport EAU\n",
      "INFO:airport_flight_system:✅ Aeroporto LGA criado/atualizado: Airport LGA\n",
      "INFO:airport_flight_system:✅ Aeroporto BTR criado/atualizado: Airport BTR\n",
      "INFO:airport_flight_system:✅ Aeroporto SBN criado/atualizado: Airport SBN\n",
      "INFO:airport_flight_system:✅ Aeroporto ISN criado/atualizado: Airport ISN\n",
      "INFO:airport_flight_system:✅ Aeroporto FAT criado/atualizado: Airport FAT\n",
      "INFO:airport_flight_system:✅ Aeroporto TYR criado/atualizado: Airport TYR\n",
      "INFO:airport_flight_system:✅ Aeroporto DIK criado/atualizado: Airport DIK\n",
      "INFO:airport_flight_system:✅ Aeroporto FSD criado/atualizado: Airport FSD\n",
      "INFO:airport_flight_system:✅ Aeroporto DTW criado/atualizado: Airport DTW\n",
      "INFO:airport_flight_system:✅ Aeroporto PBI criado/atualizado: Airport PBI\n",
      "INFO:airport_flight_system:✅ Aeroporto HSV criado/atualizado: Airport HSV\n",
      "INFO:airport_flight_system:✅ Aeroporto MQT criado/atualizado: Airport MQT\n",
      "INFO:airport_flight_system:✅ Aeroporto ROC criado/atualizado: Airport ROC\n",
      "INFO:airport_flight_system:✅ Aeroporto RSW criado/atualizado: Airport RSW\n",
      "INFO:airport_flight_system:✅ Aeroporto GCC criado/atualizado: Airport GCC\n",
      "INFO:airport_flight_system:✅ Aeroporto PSC criado/atualizado: Airport PSC\n",
      "INFO:airport_flight_system:✅ Aeroporto FAY criado/atualizado: Airport FAY\n",
      "INFO:airport_flight_system:✅ Aeroporto LSE criado/atualizado: Airport LSE\n",
      "INFO:airport_flight_system:✅ Aeroporto TUS criado/atualizado: Airport TUS\n",
      "INFO:airport_flight_system:✅ Aeroporto BMI criado/atualizado: Airport BMI\n",
      "INFO:airport_flight_system:✅ Aeroporto MFR criado/atualizado: Airport MFR\n",
      "INFO:airport_flight_system:✅ Aeroporto CRW criado/atualizado: Airport CRW\n",
      "INFO:airport_flight_system:✅ Aeroporto MVY criado/atualizado: Airport MVY\n",
      "INFO:airport_flight_system:✅ Aeroporto BQK criado/atualizado: Airport BQK\n",
      "INFO:airport_flight_system:✅ Aeroporto SAN criado/atualizado: Airport SAN\n",
      "INFO:airport_flight_system:✅ Aeroporto LRD criado/atualizado: Airport LRD\n",
      "INFO:airport_flight_system:✅ Aeroporto JLN criado/atualizado: Airport JLN\n",
      "INFO:airport_flight_system:✅ Aeroporto PWM criado/atualizado: Airport PWM\n",
      "INFO:airport_flight_system:✅ Aeroporto SJC criado/atualizado: Airport SJC\n",
      "INFO:airport_flight_system:✅ Aeroporto CLL criado/atualizado: Airport CLL\n",
      "INFO:airport_flight_system:✅ Aeroporto FNT criado/atualizado: Airport FNT\n",
      "INFO:airport_flight_system:✅ Aeroporto EWR criado/atualizado: Airport EWR\n",
      "INFO:airport_flight_system:✅ Aeroporto CMI criado/atualizado: Airport CMI\n",
      "INFO:airport_flight_system:✅ Aeroporto JAC criado/atualizado: Airport JAC\n",
      "INFO:airport_flight_system:✅ Aeroporto DAL criado/atualizado: Airport DAL\n",
      "INFO:airport_flight_system:✅ Aeroporto OTH criado/atualizado: Airport OTH\n",
      "INFO:airport_flight_system:✅ Aeroporto DVL criado/atualizado: Airport DVL\n",
      "INFO:airport_flight_system:✅ Aeroporto ALO criado/atualizado: Airport ALO\n",
      "INFO:airport_flight_system:✅ Aeroporto JFK criado/atualizado: Airport JFK\n",
      "INFO:airport_flight_system:✅ Aeroporto LEX criado/atualizado: Airport LEX\n",
      "INFO:airport_flight_system:✅ Aeroporto FSM criado/atualizado: Airport FSM\n",
      "INFO:airport_flight_system:✅ Aeroporto KTN criado/atualizado: Airport KTN\n",
      "INFO:airport_flight_system:✅ Aeroporto LAN criado/atualizado: Airport LAN\n",
      "INFO:airport_flight_system:✅ Aeroporto CAE criado/atualizado: Airport CAE\n",
      "INFO:airport_flight_system:✅ Aeroporto GRK criado/atualizado: Airport GRK\n",
      "INFO:airport_flight_system:✅ Aeroporto RDM criado/atualizado: Airport RDM\n",
      "INFO:airport_flight_system:✅ Aeroporto BIL criado/atualizado: Airport BIL\n",
      "INFO:airport_flight_system:✅ Aeroporto AUS criado/atualizado: Airport AUS\n",
      "INFO:airport_flight_system:✅ Aeroporto OKC criado/atualizado: Airport OKC\n",
      "INFO:airport_flight_system:✅ Aeroporto TYS criado/atualizado: Airport TYS\n",
      "INFO:airport_flight_system:✅ Aeroporto MFE criado/atualizado: Airport MFE\n",
      "INFO:airport_flight_system:✅ Aeroporto ATW criado/atualizado: Airport ATW\n",
      "INFO:airport_flight_system:✅ Aeroporto GCK criado/atualizado: Airport GCK\n",
      "INFO:airport_flight_system:✅ Aeroporto ONT criado/atualizado: Airport ONT\n",
      "INFO:airport_flight_system:✅ Aeroporto GUM criado/atualizado: Airport GUM\n",
      "INFO:airport_flight_system:✅ Aeroporto MDT criado/atualizado: Airport MDT\n",
      "INFO:airport_flight_system:✅ Aeroporto AMA criado/atualizado: Airport AMA\n",
      "INFO:airport_flight_system:✅ Aeroporto GEG criado/atualizado: Airport GEG\n",
      "INFO:airport_flight_system:✅ Aeroporto RDU criado/atualizado: Airport RDU\n",
      "INFO:airport_flight_system:✅ Aeroporto MGM criado/atualizado: Airport MGM\n",
      "INFO:airport_flight_system:✅ Aeroporto FAI criado/atualizado: Airport FAI\n",
      "INFO:airport_flight_system:✅ Aeroporto CHA criado/atualizado: Airport CHA\n",
      "INFO:airport_flight_system:✅ Aeroporto STX criado/atualizado: Airport STX\n",
      "INFO:airport_flight_system:✅ Aeroporto GNV criado/atualizado: Airport GNV\n",
      "INFO:airport_flight_system:✅ Aeroporto LIH criado/atualizado: Airport LIH\n",
      "INFO:airport_flight_system:✅ Aeroporto PPG criado/atualizado: Airport PPG\n",
      "INFO:airport_flight_system:✅ Aeroporto TPA criado/atualizado: Airport TPA\n",
      "INFO:airport_flight_system:✅ Aeroporto OTZ criado/atualizado: Airport OTZ\n",
      "INFO:airport_flight_system:✅ Aeroporto SCE criado/atualizado: Airport SCE\n",
      "INFO:airport_flight_system:✅ Aeroporto BOS criado/atualizado: Airport BOS\n",
      "INFO:airport_flight_system:✅ Aeroporto CAK criado/atualizado: Airport CAK\n",
      "INFO:airport_flight_system:✅ Aeroporto MEM criado/atualizado: Airport MEM\n",
      "INFO:airport_flight_system:✅ Aeroporto MEI criado/atualizado: Airport MEI\n",
      "INFO:airport_flight_system:✅ Aeroporto GRR criado/atualizado: Airport GRR\n",
      "INFO:airport_flight_system:✅ Aeroporto WRG criado/atualizado: Airport WRG\n",
      "INFO:airport_flight_system:✅ Aeroporto LCH criado/atualizado: Airport LCH\n",
      "INFO:airport_flight_system:✅ Aeroporto PIT criado/atualizado: Airport PIT\n",
      "INFO:airport_flight_system:✅ Aeroporto ABI criado/atualizado: Airport ABI\n",
      "INFO:airport_flight_system:✅ Aeroporto LNK criado/atualizado: Airport LNK\n",
      "INFO:airport_flight_system:✅ Aeroporto OAK criado/atualizado: Airport OAK\n",
      "INFO:airport_flight_system:✅ Aeroporto GJT criado/atualizado: Airport GJT\n",
      "INFO:airport_flight_system:✅ Aeroporto BFL criado/atualizado: Airport BFL\n",
      "INFO:airport_flight_system:✅ Aeroporto RKS criado/atualizado: Airport RKS\n",
      "INFO:airport_flight_system:✅ Aeroporto AZO criado/atualizado: Airport AZO\n",
      "INFO:airport_flight_system:✅ Aeroporto MLU criado/atualizado: Airport MLU\n",
      "INFO:airport_flight_system:✅ Aeroporto BTV criado/atualizado: Airport BTV\n",
      "INFO:airport_flight_system:✅ Aeroporto KOA criado/atualizado: Airport KOA\n",
      "INFO:airport_flight_system:✅ Aeroporto CLE criado/atualizado: Airport CLE\n",
      "INFO:airport_flight_system:✅ Aeroporto STC criado/atualizado: Airport STC\n",
      "INFO:airport_flight_system:✅ Aeroporto EUG criado/atualizado: Airport EUG\n",
      "INFO:airport_flight_system:✅ Aeroporto LWS criado/atualizado: Airport LWS\n",
      "INFO:airport_flight_system:✅ Aeroporto MLI criado/atualizado: Airport MLI\n",
      "INFO:airport_flight_system:✅ Aeroporto BLI criado/atualizado: Airport BLI\n",
      "INFO:airport_flight_system:✅ Aeroporto SPI criado/atualizado: Airport SPI\n",
      "INFO:airport_flight_system:✅ Aeroporto SLC criado/atualizado: Airport SLC\n",
      "INFO:airport_flight_system:✅ Aeroporto DLG criado/atualizado: Airport DLG\n",
      "INFO:airport_flight_system:✅ Aeroporto COD criado/atualizado: Airport COD\n",
      "INFO:airport_flight_system:✅ Aeroporto FLL criado/atualizado: Airport FLL\n",
      "INFO:airport_flight_system:✅ Aeroporto BHM criado/atualizado: Airport BHM\n",
      "INFO:airport_flight_system:✅ Aeroporto IAG criado/atualizado: Airport IAG\n",
      "INFO:airport_flight_system:✅ Aeroporto BRO criado/atualizado: Airport BRO\n",
      "INFO:airport_flight_system:✅ Aeroporto GSP criado/atualizado: Airport GSP\n",
      "INFO:airport_flight_system:✅ Aeroporto ACY criado/atualizado: Airport ACY\n",
      "INFO:airport_flight_system:✅ Aeroporto ORH criado/atualizado: Airport ORH\n",
      "INFO:airport_flight_system:✅ Aeroporto AEX criado/atualizado: Airport AEX\n",
      "INFO:airport_flight_system:✅ Aeroporto DEN criado/atualizado: Airport DEN\n",
      "INFO:airport_flight_system:✅ Aeroporto AVL criado/atualizado: Airport AVL\n",
      "INFO:airport_flight_system:✅ Aeroporto DFW criado/atualizado: Airport DFW\n",
      "INFO:airport_flight_system:✅ Aeroporto PUB criado/atualizado: Airport PUB\n",
      "INFO:airport_flight_system:✅ Aeroporto CID criado/atualizado: Airport CID\n",
      "INFO:airport_flight_system:✅ Aeroporto MHK criado/atualizado: Airport MHK\n",
      "INFO:airport_flight_system:✅ Aeroporto HPN criado/atualizado: Airport HPN\n",
      "INFO:airport_flight_system:✅ Aeroporto LBE criado/atualizado: Airport LBE\n",
      "INFO:airport_flight_system:✅ Aeroporto SEA criado/atualizado: Airport SEA\n",
      "INFO:airport_flight_system:✅ Aeroporto MTJ criado/atualizado: Airport MTJ\n",
      "INFO:airport_flight_system:✅ Aeroporto GST criado/atualizado: Airport GST\n",
      "INFO:airport_flight_system:✅ Aeroporto BET criado/atualizado: Airport BET\n",
      "INFO:airport_flight_system:✅ Aeroporto ADK criado/atualizado: Airport ADK\n",
      "INFO:airport_flight_system:✅ Aeroporto SBP criado/atualizado: Airport SBP\n",
      "INFO:airport_flight_system:✅ Aeroporto LAW criado/atualizado: Airport LAW\n",
      "INFO:airport_flight_system:✅ Aeroporto SDF criado/atualizado: Airport SDF\n",
      "INFO:airport_flight_system:✅ Aeroporto PSG criado/atualizado: Airport PSG\n",
      "INFO:airport_flight_system:✅ Aeroporto EWN criado/atualizado: Airport EWN\n",
      "INFO:airport_flight_system:✅ Aeroporto GRI criado/atualizado: Airport GRI\n",
      "INFO:airport_flight_system:✅ Aeroporto SBA criado/atualizado: Airport SBA\n",
      "INFO:airport_flight_system:✅ Aeroporto ITH criado/atualizado: Airport ITH\n",
      "INFO:airport_flight_system:✅ Aeroporto CHO criado/atualizado: Airport CHO\n",
      "INFO:airport_flight_system:✅ Aeroporto HOB criado/atualizado: Airport HOB\n",
      "INFO:airport_flight_system:✅ Aeroporto ADQ criado/atualizado: Airport ADQ\n",
      "INFO:airport_flight_system:✅ Aeroporto PIB criado/atualizado: Airport PIB\n",
      "INFO:airport_flight_system:✅ Aeroporto YAK criado/atualizado: Airport YAK\n",
      "INFO:airport_flight_system:✅ Aeroporto LAR criado/atualizado: Airport LAR\n",
      "INFO:airport_flight_system:✅ Aeroporto PHX criado/atualizado: Airport PHX\n",
      "INFO:airport_flight_system:✅ Aeroporto SRQ criado/atualizado: Airport SRQ\n",
      "INFO:airport_flight_system:✅ Aeroporto SFO criado/atualizado: Airport SFO\n",
      "INFO:airport_flight_system:✅ Aeroporto WYS criado/atualizado: Airport WYS\n",
      "INFO:airport_flight_system:✅ Aeroporto EYW criado/atualizado: Airport EYW\n",
      "INFO:airport_flight_system:✅ Aeroporto PIH criado/atualizado: Airport PIH\n",
      "INFO:airport_flight_system:✅ Aeroporto STT criado/atualizado: Airport STT\n",
      "INFO:airport_flight_system:✅ Aeroporto MYR criado/atualizado: Airport MYR\n",
      "INFO:airport_flight_system:✅ Aeroporto MBS criado/atualizado: Airport MBS\n",
      "INFO:airport_flight_system:✅ Aeroporto FCA criado/atualizado: Airport FCA\n",
      "INFO:airport_flight_system:✅ Aeroporto OAJ criado/atualizado: Airport OAJ\n",
      "INFO:airport_flight_system:✅ Aeroporto SYR criado/atualizado: Airport SYR\n",
      "INFO:airport_flight_system:✅ Aeroporto MLB criado/atualizado: Airport MLB\n",
      "INFO:airport_flight_system:✅ Aeroporto ACV criado/atualizado: Airport ACV\n",
      "INFO:airport_flight_system:✅ Aeroporto MSO criado/atualizado: Airport MSO\n",
      "INFO:airport_flight_system:✅ Aeroporto AGS criado/atualizado: Airport AGS\n",
      "INFO:airport_flight_system:✅ Aeroporto PSP criado/atualizado: Airport PSP\n",
      "INFO:airport_flight_system:✅ Aeroporto CIU criado/atualizado: Airport CIU\n",
      "INFO:airport_flight_system:✅ Aeroporto ELP criado/atualizado: Airport ELP\n",
      "INFO:airport_flight_system:✅ Aeroporto SMX criado/atualizado: Airport SMX\n",
      "INFO:airport_flight_system:✅ Aeroporto TUL criado/atualizado: Airport TUL\n",
      "INFO:airport_flight_system:✅ Aeroporto SNA criado/atualizado: Airport SNA\n",
      "INFO:airport_flight_system:✅ Aeroporto HIB criado/atualizado: Airport HIB\n",
      "INFO:airport_flight_system:✅ Aeroporto SAV criado/atualizado: Airport SAV\n",
      "INFO:airport_flight_system:✅ Aeroporto SAF criado/atualizado: Airport SAF\n",
      "INFO:airport_flight_system:✅ Aeroporto CDC criado/atualizado: Airport CDC\n",
      "INFO:airport_flight_system:✅ Aeroporto BDL criado/atualizado: Airport BDL\n",
      "INFO:airport_flight_system:✅ Aeroporto ATL criado/atualizado: Airport ATL\n",
      "INFO:airport_flight_system:✅ Aeroporto HLN criado/atualizado: Airport HLN\n",
      "INFO:airport_flight_system:✅ Aeroporto CNY criado/atualizado: Airport CNY\n",
      "INFO:airport_flight_system:✅ Aeroporto CEC criado/atualizado: Airport CEC\n",
      "INFO:airport_flight_system:✅ Aeroporto ELM criado/atualizado: Airport ELM\n",
      "INFO:airport_flight_system:✅ Aeroporto BRW criado/atualizado: Airport BRW\n",
      "INFO:airport_flight_system:✅ Aeroporto VPS criado/atualizado: Airport VPS\n",
      "INFO:airport_flight_system:✅ Aeroporto BGR criado/atualizado: Airport BGR\n",
      "INFO:airport_flight_system:✅ Aeroporto APN criado/atualizado: Airport APN\n",
      "INFO:airport_flight_system:✅ Aeroporto YUM criado/atualizado: Airport YUM\n",
      "INFO:airport_flight_system:✅ Aeroporto GUC criado/atualizado: Airport GUC\n",
      "INFO:airport_flight_system:✅ Aeroporto RAP criado/atualizado: Airport RAP\n",
      "INFO:airport_flight_system:✅ Aeroporto ASE criado/atualizado: Airport ASE\n",
      "INFO:airport_flight_system:✅ Aeroporto TLH criado/atualizado: Airport TLH\n",
      "INFO:airport_flight_system:✅ Aeroporto ESC criado/atualizado: Airport ESC\n",
      "INFO:airport_flight_system:✅ Aeroporto ECP criado/atualizado: Airport ECP\n",
      "INFO:airport_flight_system:✅ Aeroporto SJT criado/atualizado: Airport SJT\n",
      "INFO:airport_flight_system:✅ Aeroporto MSP criado/atualizado: Airport MSP\n",
      "INFO:airport_flight_system:✅ Aeroporto GPT criado/atualizado: Airport GPT\n",
      "INFO:airport_flight_system:✅ Aeroporto JNU criado/atualizado: Airport JNU\n",
      "INFO:airport_flight_system:✅ Aeroporto ILG criado/atualizado: Airport ILG\n",
      "INFO:airport_flight_system:✅ Aeroporto MKG criado/atualizado: Airport MKG\n",
      "INFO:airport_flight_system:✅ Aeroporto ANC criado/atualizado: Airport ANC\n",
      "INFO:airport_flight_system:✅ Aeroporto SAT criado/atualizado: Airport SAT\n",
      "INFO:airport_flight_system:✅ Aeroporto LAX criado/atualizado: Airport LAX\n",
      "INFO:airport_flight_system:✅ Aeroporto MCI criado/atualizado: Airport MCI\n",
      "INFO:airport_flight_system:✅ Aeroporto SJU criado/atualizado: Airport SJU\n",
      "INFO:airport_flight_system:✅ Aeroporto GFK criado/atualizado: Airport GFK\n",
      "INFO:airport_flight_system:✅ Aeroporto MRY criado/atualizado: Airport MRY\n",
      "INFO:airport_flight_system:✅ Aeroporto BOI criado/atualizado: Airport BOI\n",
      "INFO:airport_flight_system:✅ Aeroporto COU criado/atualizado: Airport COU\n",
      "INFO:airport_flight_system:✅ Aeroporto RDD criado/atualizado: Airport RDD\n",
      "INFO:airport_flight_system:✅ Aeroporto VEL criado/atualizado: Airport VEL\n",
      "INFO:airport_flight_system:✅ Aeroporto GTR criado/atualizado: Airport GTR\n",
      "INFO:airport_flight_system:✅ Aeroporto TTN criado/atualizado: Airport TTN\n",
      "INFO:airport_flight_system:✅ Aeroporto ORF criado/atualizado: Airport ORF\n",
      "INFO:airport_flight_system:✅ Aeroporto FWA criado/atualizado: Airport FWA\n",
      "INFO:airport_flight_system:✅ Aeroporto IDA criado/atualizado: Airport IDA\n",
      "INFO:airport_flight_system:✅ Aeroporto AVP criado/atualizado: Airport AVP\n",
      "INFO:airport_flight_system:✅ Aeroporto JMS criado/atualizado: Airport JMS\n",
      "INFO:airport_flight_system:✅ Aeroporto CDV criado/atualizado: Airport CDV\n",
      "INFO:airport_flight_system:✅ Aeroporto AKN criado/atualizado: Airport AKN\n",
      "INFO:airport_flight_system:✅ Aeroporto MOB criado/atualizado: Airport MOB\n",
      "INFO:airport_flight_system:✅ Aeroporto SHV criado/atualizado: Airport SHV\n",
      "INFO:airport_flight_system:✅ Aeroporto OME criado/atualizado: Airport OME\n",
      "INFO:airport_flight_system:✅ Aeroporto RHI criado/atualizado: Airport RHI\n",
      "INFO:airport_flight_system:✅ Aeroporto CRP criado/atualizado: Airport CRP\n",
      "INFO:airport_flight_system:✅ Aeroporto DSM criado/atualizado: Airport DSM\n",
      "INFO:airport_flight_system:✅ Aeroporto ABY criado/atualizado: Airport ABY\n",
      "INFO:airport_flight_system:✅ Aeroporto TOL criado/atualizado: Airport TOL\n",
      "INFO:airport_flight_system:✅ Aeroporto MIA criado/atualizado: Airport MIA\n",
      "INFO:airport_flight_system:✅ Aeroporto TVC criado/atualizado: Airport TVC\n",
      "INFO:airport_flight_system:✅ Aeroporto CVG criado/atualizado: Airport CVG\n",
      "INFO:airport_flight_system:✅ Aeroporto ERI criado/atualizado: Airport ERI\n",
      "INFO:airport_flight_system:✅ Aeroporto BTM criado/atualizado: Airport BTM\n",
      "INFO:airport_flight_system:✅ Aeroporto SGF criado/atualizado: Airport SGF\n",
      "INFO:airport_flight_system:✅ Aeroporto ABR criado/atualizado: Airport ABR\n",
      "INFO:airport_flight_system:✅ Aeroporto SPS criado/atualizado: Airport SPS\n",
      "INFO:airport_flight_system:✅ Aeroporto PLN criado/atualizado: Airport PLN\n",
      "INFO:airport_flight_system:✅ Aeroporto MMH criado/atualizado: Airport MMH\n",
      "INFO:airport_flight_system:✅ Aeroporto HOU criado/atualizado: Airport HOU\n",
      "INFO:airport_flight_system:✅ Aeroporto LGB criado/atualizado: Airport LGB\n",
      "INFO:airport_flight_system:✅ Aeroporto BRD criado/atualizado: Airport BRD\n",
      "INFO:airport_flight_system:✅ Aeroporto HRL criado/atualizado: Airport HRL\n",
      "INFO:airport_flight_system:✅ Aeroporto GSO criado/atualizado: Airport GSO\n",
      "INFO:airport_flight_system:✅ Aeroporto ROA criado/atualizado: Airport ROA\n",
      "INFO:airport_flight_system:✅ Aeroporto SGU criado/atualizado: Airport SGU\n",
      "INFO:airport_flight_system:✅ Aeroporto MDW criado/atualizado: Airport MDW\n",
      "INFO:airport_flight_system:✅ Aeroporto HDN criado/atualizado: Airport HDN\n",
      "INFO:airport_flight_system:✅ Aeroporto SMF criado/atualizado: Airport SMF\n",
      "INFO:airport_flight_system:✅ Aeroporto CMX criado/atualizado: Airport CMX\n",
      "INFO:airport_flight_system:✅ Aeroporto DBQ criado/atualizado: Airport DBQ\n",
      "INFO:airport_flight_system:✅ Aeroporto ITO criado/atualizado: Airport ITO\n",
      "INFO:airport_flight_system:✅ Aeroporto ILM criado/atualizado: Airport ILM\n",
      "INFO:airport_flight_system:✅ Aeroporto PHF criado/atualizado: Airport PHF\n",
      "INFO:airport_flight_system:✅ Aeroporto GTF criado/atualizado: Airport GTF\n",
      "INFO:airport_flight_system:✅ Aeroporto BZN criado/atualizado: Airport BZN\n",
      "INFO:airport_flight_system:✅ Aeroporto SUN criado/atualizado: Airport SUN\n",
      "INFO:airport_flight_system:✅ Aeroporto BWI criado/atualizado: Airport BWI\n",
      "INFO:airport_flight_system:✅ Aeroporto DHN criado/atualizado: Airport DHN\n",
      "INFO:airport_flight_system:✅ Aeroporto RIC criado/atualizado: Airport RIC\n",
      "INFO:airport_flight_system:✅ Aeroporto PVD criado/atualizado: Airport PVD\n",
      "INFO:airport_flight_system:✅ Aeroporto ICT criado/atualizado: Airport ICT\n",
      "INFO:airport_flight_system:✅ Aeroporto CPR criado/atualizado: Airport CPR\n",
      "INFO:airport_flight_system:✅ Aeroporto LAS criado/atualizado: Airport LAS\n",
      "INFO:airport_flight_system:✅ Aeroporto BUF criado/atualizado: Airport BUF\n",
      "INFO:airport_flight_system:✅ Aeroporto MOT criado/atualizado: Airport MOT\n",
      "INFO:airport_flight_system:✅ Aeroporto INL criado/atualizado: Airport INL\n",
      "INFO:airport_flight_system:✅ Aeroporto TWF criado/atualizado: Airport TWF\n",
      "INFO:airport_flight_system:✅ Aeroporto HNL criado/atualizado: Airport HNL\n",
      "INFO:airport_flight_system:✅ Aeroporto DRO criado/atualizado: Airport DRO\n",
      "INFO:airport_flight_system:✅ Aeroporto MKE criado/atualizado: Airport MKE\n",
      "INFO:airport_flight_system:✅ Aeroporto IAH criado/atualizado: Airport IAH\n",
      "INFO:airport_flight_system:✅ Aeroporto IND criado/atualizado: Airport IND\n",
      "INFO:airport_flight_system:✅ Aeroporto ISP criado/atualizado: Airport ISP\n",
      "INFO:airport_flight_system:✅ Aeroporto STL criado/atualizado: Airport STL\n",
      "INFO:airport_flight_system:✅ Aeroporto CWA criado/atualizado: Airport CWA\n",
      "INFO:airport_flight_system:✅ Aeroporto CSG criado/atualizado: Airport CSG\n",
      "INFO:airport_flight_system:✅ Aeroporto GGG criado/atualizado: Airport GGG\n",
      "INFO:airport_flight_system:✅ Aeroporto TXK criado/atualizado: Airport TXK\n",
      "INFO:airport_flight_system:✅ Aeroporto PIA criado/atualizado: Airport PIA\n",
      "INFO:airport_flight_system:✅ Aeroporto RST criado/atualizado: Airport RST\n",
      "INFO:airport_flight_system:✅ Aeroporto PSE criado/atualizado: Airport PSE\n",
      "INFO:airport_flight_system:✅ Aeroporto CLD criado/atualizado: Airport CLD\n",
      "INFO:airport_flight_system:✅ Aeroporto SIT criado/atualizado: Airport SIT\n",
      "INFO:airport_flight_system:✅ Aeroporto BPT criado/atualizado: Airport BPT\n",
      "INFO:airport_flight_system:✅ Aeroporto BNA criado/atualizado: Airport BNA\n",
      "INFO:airport_flight_system:✅ Aeroporto XNA criado/atualizado: Airport XNA\n",
      "INFO:airport_flight_system:✅ Aeroporto OGG criado/atualizado: Airport OGG\n",
      "INFO:airport_flight_system:✅ Aeroporto ABE criado/atualizado: Airport ABE\n",
      "INFO:airport_flight_system:✅ Aeroporto PDX criado/atualizado: Airport PDX\n",
      "INFO:airport_flight_system:✅ Aeroporto DAB criado/atualizado: Airport DAB\n",
      "INFO:airport_flight_system:✅ Aeroporto MCO criado/atualizado: Airport MCO\n",
      "INFO:airport_flight_system:✅ Aeroporto HYA criado/atualizado: Airport HYA\n",
      "INFO:airport_flight_system:✅ Aeroporto BJI criado/atualizado: Airport BJI\n",
      "INFO:airport_flight_system:✅ Aeroporto SCC criado/atualizado: Airport SCC\n",
      "INFO:airport_flight_system:✅ Aeroporto CHS criado/atualizado: Airport CHS\n",
      "INFO:airport_flight_system:✅ Aeroporto CLT criado/atualizado: Airport CLT\n",
      "INFO:airport_flight_system:✅ Aeroporto SWF criado/atualizado: Airport SWF\n",
      "INFO:airport_flight_system:✅ Aeroporto BGM criado/atualizado: Airport BGM\n",
      "INFO:airport_flight_system:✅ Aeroporto DCA criado/atualizado: Airport DCA\n",
      "INFO:airport_flight_system:✅ Aeroporto VLD criado/atualizado: Airport VLD\n",
      "INFO:airport_flight_system:✅ Aeroporto PBG criado/atualizado: Airport PBG\n",
      "INFO:airport_flight_system:✅ Aeroporto LFT criado/atualizado: Airport LFT\n"
     ]
    },
    {
     "name": "stdout",
     "output_type": "stream",
     "text": [
      "✅ 322 aeroportos criados com sucesso!\n",
      "\n"
     ]
    }
   ],
   "execution_count": 18
  },
  {
   "metadata": {},
   "cell_type": "markdown",
   "source": "### Inserir Voos (Processamento em Lotes)"
  },
  {
   "metadata": {
    "jupyter": {
     "is_executing": true
    },
    "ExecuteTime": {
     "start_time": "2025-07-15T21:14:49.245577Z"
    }
   },
   "cell_type": "code",
   "source": [
    "print(\"✈️ Inserindo voos no Neo4j...\")\n",
    "\n",
    "# Obter contagem total para acompanhar progresso\n",
    "total_flights = flights_transformed.count()\n",
    "print(f\"Total de voos para inserir: {total_flights}\")\n",
    "\n",
    "# Processar em lotes menores usando take() e drop()\n",
    "batch_size = 1000\n",
    "flights_created = 0\n",
    "errors = 0\n",
    "batch_number = 0\n",
    "\n",
    "# Criar uma cópia do DataFrame para processar\n",
    "remaining_df = flights_transformed\n",
    "\n",
    "print(\"Processando voos em lotes...\")\n",
    "\n",
    "while remaining_df.count() > 0:\n",
    "    try:\n",
    "        batch_number += 1\n",
    "\n",
    "        # Pegar um lote usando take()\n",
    "        batch_data = remaining_df.take(batch_size)\n",
    "\n",
    "        if not batch_data:\n",
    "            break\n",
    "\n",
    "        print(f\"Processando lote {batch_number} ({len(batch_data)} registros)...\")\n",
    "\n",
    "        for row in batch_data:\n",
    "            try:\n",
    "                # Verificar se os dados obrigatórios existem\n",
    "                if not row.ORIGIN_AIRPORT or not row.DESTINATION_AIRPORT:\n",
    "                    errors += 1\n",
    "                    continue\n",
    "\n",
    "                flight_data = {\n",
    "                    'date': str(row.DATE) if row.DATE else '2015-01-01',\n",
    "                    'airline': row.AIRLINE if row.AIRLINE else 'Unknown',\n",
    "                    'origin_airport': row.ORIGIN_AIRPORT,\n",
    "                    'destination_airport': row.DESTINATION_AIRPORT,\n",
    "                    'scheduled_departure': float(row.SCHEDULED_DEPARTURE) if row.SCHEDULED_DEPARTURE is not None else 0.0,\n",
    "                    'departure_time': float(row.DEPARTURE_TIME) if row.DEPARTURE_TIME is not None else 0.0,\n",
    "                    'departure_delay': float(row.DEPARTURE_DELAY) if row.DEPARTURE_DELAY is not None else 0.0,\n",
    "                    'scheduled_arrival': float(row.SCHEDULED_ARRIVAL) if row.SCHEDULED_ARRIVAL is not None else 0.0,\n",
    "                    'arrival_time': float(row.ARRIVAL_TIME) if row.ARRIVAL_TIME is not None else 0.0,\n",
    "                    'arrival_delay': float(row.ARRIVAL_DELAY) if row.ARRIVAL_DELAY is not None else 0.0,\n",
    "                    'scheduled_time': float(row.SCHEDULED_TIME) if row.SCHEDULED_TIME is not None else 0.0,\n",
    "                    'elapsed_time': float(row.ELAPSED_TIME) if row.ELAPSED_TIME is not None else 0.0\n",
    "                }\n",
    "\n",
    "                flight_system.create_flight(flight_data)\n",
    "                flights_created += 1\n",
    "\n",
    "            except Exception as e:\n",
    "                errors += 1\n",
    "                if errors <= 10:  # Mostrar apenas os primeiros 10 erros\n",
    "                    print(f\"Erro no voo {flights_created + errors}: {e}\")\n",
    "\n",
    "        # Atualizar DataFrame removendo os registros processados\n",
    "        # Como não podemos usar drop() diretamente, vamos simular o progresso\n",
    "        processed_count = flights_created + errors\n",
    "        remaining_count = total_flights - processed_count\n",
    "\n",
    "        # Log do progresso\n",
    "        progress_percent = (processed_count / total_flights) * 100\n",
    "        print(f\"Progresso: {processed_count}/{total_flights} voos processados ({progress_percent:.1f}%)\")\n",
    "\n",
    "        # Se processamos menos que o batch_size, significa que terminamos\n",
    "        if len(batch_data) < batch_size:\n",
    "            break\n",
    "\n",
    "        # Simular a remoção dos registros processados\n",
    "        remaining_df = remaining_df.limit(remaining_count)\n",
    "\n",
    "        # Pausa pequena para não sobrecarregar\n",
    "        import time\n",
    "        time.sleep(0.1)\n",
    "\n",
    "    except Exception as e:\n",
    "        print(f\"Erro no lote {batch_number}: {e}\")\n",
    "        errors += len(batch_data) if 'batch_data' in locals() else batch_size\n",
    "        # Tentar continuar com o próximo lote\n",
    "        try:\n",
    "            remaining_df = remaining_df.limit(remaining_df.count() - batch_size)\n",
    "        except:\n",
    "            break\n",
    "        continue\n",
    "\n",
    "print(f\"✅ Inserção concluída! {flights_created} voos criados, {errors} erros\\n\")\n"
   ],
   "outputs": [
    {
     "name": "stdout",
     "output_type": "stream",
     "text": [
      "✈️ Inserindo voos no Neo4j...\n",
      "Total de voos para inserir: 5230735\n",
      "Processando voos em lotes...\n",
      "Processando lote 1 (1000 registros)...\n",
      "Progresso: 1000/5230735 voos processados (0.0%)\n",
      "Processando lote 2 (1000 registros)...\n",
      "Progresso: 2000/5230735 voos processados (0.0%)\n",
      "Processando lote 3 (1000 registros)...\n",
      "Progresso: 3000/5230735 voos processados (0.1%)\n",
      "Processando lote 4 (1000 registros)...\n",
      "Progresso: 4000/5230735 voos processados (0.1%)\n",
      "Processando lote 5 (1000 registros)...\n",
      "Progresso: 5000/5230735 voos processados (0.1%)\n",
      "Processando lote 6 (1000 registros)...\n",
      "Progresso: 6000/5230735 voos processados (0.1%)\n",
      "Processando lote 7 (1000 registros)...\n",
      "Progresso: 7000/5230735 voos processados (0.1%)\n",
      "Processando lote 8 (1000 registros)...\n",
      "Progresso: 8000/5230735 voos processados (0.2%)\n",
      "Processando lote 9 (1000 registros)...\n",
      "Progresso: 9000/5230735 voos processados (0.2%)\n",
      "Processando lote 10 (1000 registros)...\n",
      "Progresso: 10000/5230735 voos processados (0.2%)\n",
      "Processando lote 11 (1000 registros)...\n",
      "Progresso: 11000/5230735 voos processados (0.2%)\n",
      "Processando lote 12 (1000 registros)...\n",
      "Progresso: 12000/5230735 voos processados (0.2%)\n",
      "Processando lote 13 (1000 registros)...\n",
      "Progresso: 13000/5230735 voos processados (0.2%)\n",
      "Processando lote 14 (1000 registros)...\n",
      "Progresso: 14000/5230735 voos processados (0.3%)\n",
      "Processando lote 15 (1000 registros)...\n",
      "Progresso: 15000/5230735 voos processados (0.3%)\n",
      "Processando lote 16 (1000 registros)...\n",
      "Progresso: 16000/5230735 voos processados (0.3%)\n",
      "Processando lote 17 (1000 registros)...\n",
      "Progresso: 17000/5230735 voos processados (0.3%)\n",
      "Processando lote 18 (1000 registros)...\n",
      "Progresso: 18000/5230735 voos processados (0.3%)\n",
      "Processando lote 19 (1000 registros)...\n",
      "Progresso: 19000/5230735 voos processados (0.4%)\n",
      "Processando lote 20 (1000 registros)...\n",
      "Progresso: 20000/5230735 voos processados (0.4%)\n",
      "Processando lote 21 (1000 registros)...\n",
      "Progresso: 21000/5230735 voos processados (0.4%)\n",
      "Processando lote 22 (1000 registros)...\n",
      "Progresso: 22000/5230735 voos processados (0.4%)\n",
      "Processando lote 23 (1000 registros)...\n",
      "Progresso: 23000/5230735 voos processados (0.4%)\n",
      "Processando lote 24 (1000 registros)...\n",
      "Progresso: 24000/5230735 voos processados (0.5%)\n",
      "Processando lote 25 (1000 registros)...\n",
      "Progresso: 25000/5230735 voos processados (0.5%)\n",
      "Processando lote 26 (1000 registros)...\n",
      "Progresso: 26000/5230735 voos processados (0.5%)\n",
      "Processando lote 27 (1000 registros)...\n",
      "Progresso: 27000/5230735 voos processados (0.5%)\n",
      "Processando lote 28 (1000 registros)...\n",
      "Progresso: 28000/5230735 voos processados (0.5%)\n",
      "Processando lote 29 (1000 registros)...\n",
      "Progresso: 29000/5230735 voos processados (0.6%)\n",
      "Processando lote 30 (1000 registros)...\n",
      "Progresso: 30000/5230735 voos processados (0.6%)\n",
      "Processando lote 31 (1000 registros)...\n",
      "Progresso: 31000/5230735 voos processados (0.6%)\n",
      "Processando lote 32 (1000 registros)...\n",
      "Progresso: 32000/5230735 voos processados (0.6%)\n",
      "Processando lote 33 (1000 registros)...\n",
      "Progresso: 33000/5230735 voos processados (0.6%)\n",
      "Processando lote 34 (1000 registros)...\n",
      "Progresso: 34000/5230735 voos processados (0.7%)\n",
      "Processando lote 35 (1000 registros)...\n",
      "Progresso: 35000/5230735 voos processados (0.7%)\n",
      "Processando lote 36 (1000 registros)...\n",
      "Progresso: 36000/5230735 voos processados (0.7%)\n",
      "Processando lote 37 (1000 registros)...\n",
      "Progresso: 37000/5230735 voos processados (0.7%)\n",
      "Processando lote 38 (1000 registros)...\n",
      "Progresso: 38000/5230735 voos processados (0.7%)\n",
      "Processando lote 39 (1000 registros)...\n",
      "Progresso: 39000/5230735 voos processados (0.7%)\n",
      "Processando lote 40 (1000 registros)...\n",
      "Progresso: 40000/5230735 voos processados (0.8%)\n",
      "Processando lote 41 (1000 registros)...\n",
      "Progresso: 41000/5230735 voos processados (0.8%)\n",
      "Processando lote 42 (1000 registros)...\n",
      "Progresso: 42000/5230735 voos processados (0.8%)\n",
      "Processando lote 43 (1000 registros)...\n",
      "Progresso: 43000/5230735 voos processados (0.8%)\n",
      "Processando lote 44 (1000 registros)...\n",
      "Progresso: 44000/5230735 voos processados (0.8%)\n",
      "Processando lote 45 (1000 registros)...\n",
      "Progresso: 45000/5230735 voos processados (0.9%)\n",
      "Processando lote 46 (1000 registros)...\n",
      "Progresso: 46000/5230735 voos processados (0.9%)\n",
      "Processando lote 47 (1000 registros)...\n",
      "Progresso: 47000/5230735 voos processados (0.9%)\n",
      "Processando lote 48 (1000 registros)...\n",
      "Progresso: 48000/5230735 voos processados (0.9%)\n",
      "Processando lote 49 (1000 registros)...\n",
      "Progresso: 49000/5230735 voos processados (0.9%)\n",
      "Processando lote 50 (1000 registros)...\n",
      "Progresso: 50000/5230735 voos processados (1.0%)\n",
      "Processando lote 51 (1000 registros)...\n",
      "Progresso: 51000/5230735 voos processados (1.0%)\n",
      "Processando lote 52 (1000 registros)...\n",
      "Progresso: 52000/5230735 voos processados (1.0%)\n",
      "Processando lote 53 (1000 registros)...\n",
      "Progresso: 53000/5230735 voos processados (1.0%)\n",
      "Processando lote 54 (1000 registros)...\n",
      "Progresso: 54000/5230735 voos processados (1.0%)\n",
      "Processando lote 55 (1000 registros)...\n",
      "Progresso: 55000/5230735 voos processados (1.1%)\n",
      "Processando lote 56 (1000 registros)...\n",
      "Progresso: 56000/5230735 voos processados (1.1%)\n",
      "Processando lote 57 (1000 registros)...\n",
      "Progresso: 57000/5230735 voos processados (1.1%)\n",
      "Processando lote 58 (1000 registros)...\n",
      "Progresso: 58000/5230735 voos processados (1.1%)\n",
      "Processando lote 59 (1000 registros)...\n",
      "Progresso: 59000/5230735 voos processados (1.1%)\n",
      "Processando lote 60 (1000 registros)...\n",
      "Progresso: 60000/5230735 voos processados (1.1%)\n",
      "Processando lote 61 (1000 registros)...\n",
      "Progresso: 61000/5230735 voos processados (1.2%)\n",
      "Processando lote 62 (1000 registros)...\n",
      "Progresso: 62000/5230735 voos processados (1.2%)\n",
      "Processando lote 63 (1000 registros)...\n",
      "Progresso: 63000/5230735 voos processados (1.2%)\n",
      "Processando lote 64 (1000 registros)...\n",
      "Progresso: 64000/5230735 voos processados (1.2%)\n",
      "Processando lote 65 (1000 registros)...\n",
      "Progresso: 65000/5230735 voos processados (1.2%)\n",
      "Processando lote 66 (1000 registros)...\n",
      "Progresso: 66000/5230735 voos processados (1.3%)\n",
      "Processando lote 67 (1000 registros)...\n",
      "Progresso: 67000/5230735 voos processados (1.3%)\n",
      "Processando lote 68 (1000 registros)...\n",
      "Progresso: 68000/5230735 voos processados (1.3%)\n",
      "Processando lote 69 (1000 registros)...\n",
      "Progresso: 69000/5230735 voos processados (1.3%)\n",
      "Processando lote 70 (1000 registros)...\n",
      "Progresso: 70000/5230735 voos processados (1.3%)\n",
      "Processando lote 71 (1000 registros)...\n",
      "Progresso: 71000/5230735 voos processados (1.4%)\n",
      "Processando lote 72 (1000 registros)...\n",
      "Progresso: 72000/5230735 voos processados (1.4%)\n",
      "Processando lote 73 (1000 registros)...\n",
      "Progresso: 73000/5230735 voos processados (1.4%)\n",
      "Processando lote 74 (1000 registros)...\n",
      "Progresso: 74000/5230735 voos processados (1.4%)\n",
      "Processando lote 75 (1000 registros)...\n",
      "Progresso: 75000/5230735 voos processados (1.4%)\n",
      "Processando lote 76 (1000 registros)...\n",
      "Progresso: 76000/5230735 voos processados (1.5%)\n",
      "Processando lote 77 (1000 registros)...\n",
      "Progresso: 77000/5230735 voos processados (1.5%)\n",
      "Processando lote 78 (1000 registros)...\n",
      "Progresso: 78000/5230735 voos processados (1.5%)\n",
      "Processando lote 79 (1000 registros)...\n",
      "Progresso: 79000/5230735 voos processados (1.5%)\n",
      "Processando lote 80 (1000 registros)...\n",
      "Progresso: 80000/5230735 voos processados (1.5%)\n",
      "Processando lote 81 (1000 registros)...\n",
      "Progresso: 81000/5230735 voos processados (1.5%)\n",
      "Processando lote 82 (1000 registros)...\n",
      "Progresso: 82000/5230735 voos processados (1.6%)\n",
      "Processando lote 83 (1000 registros)...\n",
      "Progresso: 83000/5230735 voos processados (1.6%)\n",
      "Processando lote 84 (1000 registros)...\n",
      "Progresso: 84000/5230735 voos processados (1.6%)\n",
      "Processando lote 85 (1000 registros)...\n",
      "Progresso: 85000/5230735 voos processados (1.6%)\n",
      "Processando lote 86 (1000 registros)...\n",
      "Progresso: 86000/5230735 voos processados (1.6%)\n",
      "Processando lote 87 (1000 registros)...\n",
      "Progresso: 87000/5230735 voos processados (1.7%)\n",
      "Processando lote 88 (1000 registros)...\n",
      "Progresso: 88000/5230735 voos processados (1.7%)\n",
      "Processando lote 89 (1000 registros)...\n",
      "Progresso: 89000/5230735 voos processados (1.7%)\n",
      "Processando lote 90 (1000 registros)...\n",
      "Progresso: 90000/5230735 voos processados (1.7%)\n",
      "Processando lote 91 (1000 registros)...\n",
      "Progresso: 91000/5230735 voos processados (1.7%)\n",
      "Processando lote 92 (1000 registros)...\n",
      "Progresso: 92000/5230735 voos processados (1.8%)\n",
      "Processando lote 93 (1000 registros)...\n",
      "Progresso: 93000/5230735 voos processados (1.8%)\n",
      "Processando lote 94 (1000 registros)...\n",
      "Progresso: 94000/5230735 voos processados (1.8%)\n",
      "Processando lote 95 (1000 registros)...\n",
      "Progresso: 95000/5230735 voos processados (1.8%)\n",
      "Processando lote 96 (1000 registros)...\n",
      "Progresso: 96000/5230735 voos processados (1.8%)\n",
      "Processando lote 97 (1000 registros)...\n",
      "Progresso: 97000/5230735 voos processados (1.9%)\n",
      "Processando lote 98 (1000 registros)...\n",
      "Progresso: 98000/5230735 voos processados (1.9%)\n",
      "Processando lote 99 (1000 registros)...\n",
      "Progresso: 99000/5230735 voos processados (1.9%)\n",
      "Processando lote 100 (1000 registros)...\n",
      "Progresso: 100000/5230735 voos processados (1.9%)\n",
      "Processando lote 101 (1000 registros)...\n",
      "Progresso: 101000/5230735 voos processados (1.9%)\n",
      "Processando lote 102 (1000 registros)...\n",
      "Progresso: 102000/5230735 voos processados (2.0%)\n",
      "Processando lote 103 (1000 registros)...\n",
      "Progresso: 103000/5230735 voos processados (2.0%)\n",
      "Processando lote 104 (1000 registros)...\n",
      "Progresso: 104000/5230735 voos processados (2.0%)\n",
      "Processando lote 105 (1000 registros)...\n",
      "Progresso: 105000/5230735 voos processados (2.0%)\n",
      "Processando lote 106 (1000 registros)...\n",
      "Progresso: 106000/5230735 voos processados (2.0%)\n",
      "Processando lote 107 (1000 registros)...\n",
      "Progresso: 107000/5230735 voos processados (2.0%)\n",
      "Processando lote 108 (1000 registros)...\n",
      "Progresso: 108000/5230735 voos processados (2.1%)\n",
      "Processando lote 109 (1000 registros)...\n",
      "Progresso: 109000/5230735 voos processados (2.1%)\n",
      "Processando lote 110 (1000 registros)...\n",
      "Progresso: 110000/5230735 voos processados (2.1%)\n",
      "Processando lote 111 (1000 registros)...\n",
      "Progresso: 111000/5230735 voos processados (2.1%)\n",
      "Processando lote 112 (1000 registros)...\n",
      "Progresso: 112000/5230735 voos processados (2.1%)\n",
      "Processando lote 113 (1000 registros)...\n",
      "Progresso: 113000/5230735 voos processados (2.2%)\n",
      "Processando lote 114 (1000 registros)...\n",
      "Progresso: 114000/5230735 voos processados (2.2%)\n",
      "Processando lote 115 (1000 registros)...\n",
      "Progresso: 115000/5230735 voos processados (2.2%)\n",
      "Processando lote 116 (1000 registros)...\n",
      "Progresso: 116000/5230735 voos processados (2.2%)\n",
      "Processando lote 117 (1000 registros)...\n",
      "Progresso: 117000/5230735 voos processados (2.2%)\n",
      "Processando lote 118 (1000 registros)...\n",
      "Progresso: 118000/5230735 voos processados (2.3%)\n",
      "Processando lote 119 (1000 registros)...\n",
      "Progresso: 119000/5230735 voos processados (2.3%)\n",
      "Processando lote 120 (1000 registros)...\n",
      "Progresso: 120000/5230735 voos processados (2.3%)\n",
      "Processando lote 121 (1000 registros)...\n",
      "Progresso: 121000/5230735 voos processados (2.3%)\n",
      "Processando lote 122 (1000 registros)...\n",
      "Progresso: 122000/5230735 voos processados (2.3%)\n"
     ]
    }
   ],
   "execution_count": null
  },
  {
   "metadata": {},
   "cell_type": "markdown",
   "source": "### Verificar Status Final do Banco"
  },
  {
   "metadata": {
    "ExecuteTime": {
     "end_time": "2025-07-15T21:07:46.372436900Z",
     "start_time": "2025-07-15T20:48:20.271546Z"
    }
   },
   "cell_type": "code",
   "source": [
    "print(\"📊 Status final do banco de dados:\")\n",
    "final_info = flight_system.get_database_info()\n",
    "print(f\"Nós: {final_info['total_nodes']}\")\n",
    "print(f\"Relacionamentos: {final_info['total_relationships']}\")\n",
    "print(f\"Labels: {final_info['labels']}\")\n",
    "print(f\"Tipos de relacionamento: {final_info['relationship_types']}\\n\")"
   ],
   "outputs": [
    {
     "name": "stderr",
     "output_type": "stream",
     "text": [
      "INFO:airport_flight_system:📊 Info do banco 'flights-db': 629 nós, 2000 relacionamentos\n"
     ]
    },
    {
     "name": "stdout",
     "output_type": "stream",
     "text": [
      "📊 Status final do banco de dados:\n",
      "Nós: 629\n",
      "Relacionamentos: 2000\n",
      "Labels: ['Airport']\n",
      "Tipos de relacionamento: ['FLIGHT']\n",
      "\n"
     ]
    }
   ],
   "execution_count": 34
  },
  {
   "metadata": {},
   "cell_type": "markdown",
   "source": "### Consultas de Verificação"
  },
  {
   "metadata": {
    "ExecuteTime": {
     "end_time": "2025-07-15T21:07:46.372436900Z",
     "start_time": "2025-07-15T20:48:35.961224Z"
    }
   },
   "cell_type": "code",
   "source": [
    "print(\"🔍 Executando consultas de verificação...\")\n",
    "\n",
    "# Listar alguns aeroportos\n",
    "print(\"\\n📍 Primeiros 10 aeroportos:\")\n",
    "airports = flight_system.get_all_airports()[:10]\n",
    "for airport in airports:\n",
    "    print(f\"  {airport['code']}: {airport['name']} ({airport['city']}, {airport['state']})\")\n",
    "\n",
    "# Verificar voos de um aeroporto específico\n",
    "if airports:\n",
    "    sample_airport = airports[0]['code']\n",
    "    print(f\"\\n✈️ Voos do aeroporto {sample_airport} (primeiros 5):\")\n",
    "    airport_flights = flight_system.get_flights_by_airport(sample_airport)[:5]\n",
    "    for flight in airport_flights:\n",
    "        print(f\"  {flight['origin']} → {flight['destination']} | {flight['airline']} | {flight['date']} | Atraso: {flight['departure_delay']}min\")"
   ],
   "outputs": [
    {
     "name": "stderr",
     "output_type": "stream",
     "text": [
      "INFO:airport_flight_system:📊 Encontrados 629 aeroportos\n",
      "INFO:airport_flight_system:📊 Encontrados 0 voos para 10135\n"
     ]
    },
    {
     "name": "stdout",
     "output_type": "stream",
     "text": [
      "🔍 Executando consultas de verificação...\n",
      "\n",
      "📍 Primeiros 10 aeroportos:\n",
      "  10135: Airport 10135 (City 10135, State 10135)\n",
      "  10136: Airport 10136 (City 10136, State 10136)\n",
      "  10140: Airport 10140 (City 10140, State 10140)\n",
      "  10141: Airport 10141 (City 10141, State 10141)\n",
      "  10146: Airport 10146 (City 10146, State 10146)\n",
      "  10154: Airport 10154 (City 10154, State 10154)\n",
      "  10155: Airport 10155 (City 10155, State 10155)\n",
      "  10157: Airport 10157 (City 10157, State 10157)\n",
      "  10158: Airport 10158 (City 10158, State 10158)\n",
      "  10165: Airport 10165 (City 10165, State 10165)\n",
      "\n",
      "✈️ Voos do aeroporto 10135 (primeiros 5):\n"
     ]
    }
   ],
   "execution_count": 35
  },
  {
   "metadata": {},
   "cell_type": "markdown",
   "source": "### Análise de Atrasos"
  },
  {
   "metadata": {
    "ExecuteTime": {
     "end_time": "2025-07-15T21:07:46.372436900Z",
     "start_time": "2025-07-15T20:48:45.279158Z"
    }
   },
   "cell_type": "code",
   "source": [
    "print(\"\\n📈 Análise de atrasos...\")\n",
    "\n",
    "# Voos com atraso significativo\n",
    "print(\"\\n🔴 Voos com atraso > 60 minutos (primeiros 10):\")\n",
    "delayed_flights = flight_system.get_flights_with_delays(min_delay=60)[:10]\n",
    "for flight in delayed_flights:\n",
    "    print(f\"  {flight['origin']} → {flight['destination']} | {flight['airline']} | Atraso: {flight['departure_delay']}min\")\n",
    "\n",
    "# Estatísticas de atraso por aeroporto\n",
    "print(\"\\n📊 Top 10 aeroportos com maior atraso médio:\")\n",
    "delay_stats = flight_system.get_delay_statistics()[:10]\n",
    "for stat in delay_stats:\n",
    "    print(f\"  {stat['airport']}: {stat['avg_departure_delay']}min (média) | {stat['total_flights']} voos\")"
   ],
   "outputs": [
    {
     "name": "stderr",
     "output_type": "stream",
     "text": [
      "INFO:airport_flight_system:📊 Encontrados 36 voos com atraso > 60 min\n",
      "INFO:airport_flight_system:📊 Estatísticas geradas para 192 aeroportos\n"
     ]
    },
    {
     "name": "stdout",
     "output_type": "stream",
     "text": [
      "\n",
      "📈 Análise de atrasos...\n",
      "\n",
      "🔴 Voos com atraso > 60 minutos (primeiros 10):\n",
      "  LAW → DFW | Atlantic Southeast Airlines | Atraso: 364.0min\n",
      "  MCO → SFO | United Air Lines Inc. | Atraso: 328.0min\n",
      "  BUF → EWR | Atlantic Southeast Airlines | Atraso: 213.0min\n",
      "  DCA → JFK | American Eagle Airlines Inc. | Atraso: 164.0min\n",
      "  ONT → PHX | US Airways Inc. | Atraso: 164.0min\n",
      "  PHL → DFW | American Airlines Inc. | Atraso: 164.0min\n",
      "  PHX → DTW | Delta Air Lines Inc. | Atraso: 148.0min\n",
      "  CMH → ATL | Southwest Airlines Co. | Atraso: 136.0min\n",
      "  BOS → JAX | JetBlue Airways | Atraso: 133.0min\n",
      "  PSP → DEN | Skywest Airlines Inc. | Atraso: 131.0min\n",
      "\n",
      "📊 Top 10 aeroportos com maior atraso médio:\n",
      "  LAW: 364.0min (média) | 1 voos\n",
      "  SAV: 86.0min (média) | 1 voos\n",
      "  BUR: 57.0min (média) | 2 voos\n",
      "  CLD: 54.0min (média) | 1 voos\n",
      "  GUM: 51.0min (média) | 1 voos\n",
      "  LIH: 50.0min (média) | 2 voos\n",
      "  ONT: 45.14min (média) | 7 voos\n",
      "  BUF: 40.5min (média) | 6 voos\n",
      "  PSP: 38.83min (média) | 6 voos\n",
      "  LNK: 32.0min (média) | 1 voos\n"
     ]
    }
   ],
   "execution_count": 36
  },
  {
   "metadata": {},
   "cell_type": "markdown",
   "source": "### Consultas Personalizadas"
  },
  {
   "metadata": {
    "ExecuteTime": {
     "end_time": "2025-07-15T21:07:46.372436900Z",
     "start_time": "2025-07-15T20:48:59.375128Z"
    }
   },
   "cell_type": "code",
   "source": [
    "print(\"\\n🎯 Executando consultas personalizadas...\")\n",
    "\n",
    "# Consulta 1: Companhias aéreas com mais voos\n",
    "print(\"\\n✈️ Top 5 companhias aéreas por número de voos:\")\n",
    "with flight_system.driver.session() as session:\n",
    "    query = \"\"\"\n",
    "    MATCH ()-[f:FLIGHT]->()\n",
    "    RETURN f.airline as airline, count(f) as total_flights\n",
    "    ORDER BY total_flights DESC\n",
    "    LIMIT 5\n",
    "    \"\"\"\n",
    "    result = session.run(query)\n",
    "    for record in result:\n",
    "        print(f\"  {record['airline']}: {record['total_flights']} voos\")\n",
    "\n",
    "# Consulta 2: Rotas mais frequentes\n",
    "print(\"\\n🛤️ Top 5 rotas mais frequentes:\")\n",
    "with flight_system.driver.session() as session:\n",
    "    query = \"\"\"\n",
    "    MATCH (origin:Airport)-[f:FLIGHT]->(destination:Airport)\n",
    "    RETURN origin.code as origin, destination.code as destination, count(f) as flights\n",
    "    ORDER BY flights DESC\n",
    "    LIMIT 5\n",
    "    \"\"\"\n",
    "    result = session.run(query)\n",
    "    for record in result:\n",
    "        print(f\"  {record['origin']} → {record['destination']}: {record['flights']} voos\")\n",
    "\n",
    "# Consulta 3: Aeroportos com mais conexões\n",
    "print(\"\\n🔗 Top 5 aeroportos com mais conexões (hub airports):\")\n",
    "with flight_system.driver.session() as session:\n",
    "    query = \"\"\"\n",
    "    MATCH (a:Airport)\n",
    "    OPTIONAL MATCH (a)-[out:FLIGHT]->()\n",
    "    OPTIONAL MATCH ()-[in:FLIGHT]->(a)\n",
    "    RETURN a.code as airport, count(out) as outgoing, count(in) as incoming,\n",
    "           (count(out) + count(in)) as total_connections\n",
    "    ORDER BY total_connections DESC\n",
    "    LIMIT 5\n",
    "    \"\"\"\n",
    "    result = session.run(query)\n",
    "    for record in result:\n",
    "        print(f\"  {record['airport']}: {record['total_connections']} conexões ({record['outgoing']} saídas, {record['incoming']} chegadas)\")\n"
   ],
   "outputs": [
    {
     "name": "stdout",
     "output_type": "stream",
     "text": [
      "\n",
      "🎯 Executando consultas personalizadas...\n",
      "\n",
      "✈️ Top 5 companhias aéreas por número de voos:\n",
      "  Delta Air Lines Inc.: 264 voos\n",
      "  American Airlines Inc.: 252 voos\n",
      "  Skywest Airlines Inc.: 234 voos\n",
      "  United Air Lines Inc.: 222 voos\n",
      "  JetBlue Airways: 200 voos\n",
      "\n",
      "🛤️ Top 5 rotas mais frequentes:\n",
      "  ANC → SEA: 14 voos\n",
      "  JFK → SJU: 8 voos\n",
      "  SFO → IAH: 8 voos\n",
      "  HNL → OGG: 8 voos\n",
      "  JFK → LAX: 8 voos\n",
      "\n",
      "🔗 Top 5 aeroportos com mais conexões (hub airports):\n",
      "  DFW: 13064 conexões (6532 saídas, 6532 chegadas)\n",
      "  LAX: 10336 conexões (5168 saídas, 5168 chegadas)\n",
      "  SFO: 9176 conexões (4588 saídas, 4588 chegadas)\n",
      "  ORD: 9112 conexões (4556 saídas, 4556 chegadas)\n",
      "  PHX: 8464 conexões (4232 saídas, 4232 chegadas)\n"
     ]
    }
   ],
   "execution_count": 37
  },
  {
   "metadata": {
    "ExecuteTime": {
     "end_time": "2025-07-15T21:07:46.372436900Z",
     "start_time": "2025-07-15T20:49:18.537137Z"
    }
   },
   "cell_type": "code",
   "source": [
    "print(\"\\n🔌 Fechando conexão com Neo4j...\")\n",
    "flight_system.close()\n",
    "print(\"✅ Conexão fechada com sucesso!\")"
   ],
   "outputs": [
    {
     "name": "stderr",
     "output_type": "stream",
     "text": [
      "INFO:airport_flight_system:🔌 Conexão com 'flights-db' fechada\n"
     ]
    },
    {
     "name": "stdout",
     "output_type": "stream",
     "text": [
      "\n",
      "🔌 Fechando conexão com Neo4j...\n",
      "✅ Conexão fechada com sucesso!\n"
     ]
    }
   ],
   "execution_count": 40
  }
 ],
 "metadata": {
  "application/vnd.databricks.v1+notebook": {
   "computePreferences": null,
   "dashboards": [],
   "environmentMetadata": {
    "base_environment": "",
    "environment_version": "2"
   },
   "inputWidgetPreferences": null,
   "language": "python",
   "notebookMetadata": {
    "mostRecentlyExecutedCommandWithImplicitDF": {
     "commandId": 4684730141962632,
     "dataframes": [
      "_sqldf"
     ]
    },
    "pythonIndentUnit": 4
   },
   "notebookName": "etl spark 2",
   "widgets": {}
  },
  "language_info": {
   "name": "python"
  },
  "kernelspec": {
   "name": "python3",
   "language": "python",
   "display_name": "Python 3 (ipykernel)"
  }
 },
 "nbformat": 4,
 "nbformat_minor": 0
}
